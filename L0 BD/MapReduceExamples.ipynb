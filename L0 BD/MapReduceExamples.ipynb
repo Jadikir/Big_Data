{
 "cells": [
  {
   "cell_type": "markdown",
   "metadata": {
    "id": "82OvPKEiEqjc"
   },
   "source": [
    "# Введение в MapReduce модель на Python\n"
   ]
  },
  {
   "cell_type": "code",
   "execution_count": 32,
   "metadata": {
    "id": "JQ2cvXLjICmI"
   },
   "outputs": [],
   "source": [
    "from typing import NamedTuple # requires python 3.6+\n",
    "from typing import Iterator"
   ]
  },
  {
   "cell_type": "code",
   "execution_count": null,
   "metadata": {
    "id": "yjPHumVwEyEg"
   },
   "outputs": [],
   "source": [
    "def MAP(_, row:NamedTuple):\n",
    "  if (row.gender == 'female'):\n",
    "    yield (row.age, row)\n",
    "    \n",
    "def REDUCE(age:str, rows:Iterator[NamedTuple]):\n",
    "  sum = 0\n",
    "  count = 0\n",
    "  for row in rows:\n",
    "    sum += row.social_contacts\n",
    "    count += 1\n",
    "  if (count > 0):\n",
    "    yield (age, sum/count)\n",
    "  else:\n",
    "    yield (age, 0)"
   ]
  },
  {
   "cell_type": "markdown",
   "metadata": {
    "id": "vBKMgpG_ilaZ"
   },
   "source": [
    "Модель элемента данных"
   ]
  },
  {
   "cell_type": "code",
   "execution_count": null,
   "metadata": {
    "id": "Rv-XIjhTJPx3"
   },
   "outputs": [],
   "source": [
    "class User(NamedTuple):\n",
    "  id: int\n",
    "  age: str\n",
    "  social_contacts: int\n",
    "  gender: str"
   ]
  },
  {
   "cell_type": "code",
   "execution_count": null,
   "metadata": {
    "id": "5KV0Ze2vQgu5"
   },
   "outputs": [],
   "source": [
    "input_collection = [\n",
    "    User(id=0, age=55, gender='male', social_contacts=20),\n",
    "    User(id=1, age=25, gender='female', social_contacts=240),\n",
    "    User(id=2, age=25, gender='female', social_contacts=500),\n",
    "    User(id=3, age=33, gender='female', social_contacts=800)\n",
    "]"
   ]
  },
  {
   "cell_type": "markdown",
   "metadata": {
    "id": "YFeqzyZxZIFZ"
   },
   "source": [
    "Функция RECORDREADER моделирует чтение элементов с диска или по сети."
   ]
  },
  {
   "cell_type": "code",
   "execution_count": null,
   "metadata": {
    "id": "S5HR4E_GQoMJ"
   },
   "outputs": [],
   "source": [
    "def RECORDREADER():\n",
    "  return [(u.id, u) for u in input_collection]"
   ]
  },
  {
   "cell_type": "code",
   "execution_count": null,
   "metadata": {
    "colab": {
     "base_uri": "https://localhost:8080/",
     "height": 85
    },
    "id": "NeEoWla-ROUy",
    "outputId": "94ca6e0e-4644-4282-acbf-1759d7ba2918"
   },
   "outputs": [
    {
     "data": {
      "text/plain": [
       "[(0, User(id=0, age=55, social_contacts=20, gender='male')),\n",
       " (1, User(id=1, age=25, social_contacts=240, gender='female')),\n",
       " (2, User(id=2, age=25, social_contacts=500, gender='female')),\n",
       " (3, User(id=3, age=33, social_contacts=800, gender='female'))]"
      ]
     },
     "execution_count": 20,
     "metadata": {
      "tags": []
     },
     "output_type": "execute_result"
    }
   ],
   "source": [
    "list(RECORDREADER())"
   ]
  },
  {
   "cell_type": "code",
   "execution_count": null,
   "metadata": {
    "id": "YB8orgPSZs8M"
   },
   "outputs": [],
   "source": [
    "def flatten(nested_iterable):\n",
    "  for iterable in nested_iterable:\n",
    "    for element in iterable:\n",
    "      yield element"
   ]
  },
  {
   "cell_type": "code",
   "execution_count": null,
   "metadata": {
    "colab": {
     "base_uri": "https://localhost:8080/",
     "height": 68
    },
    "id": "74oyvDLaRmd5",
    "outputId": "c6147702-7153-47c7-a574-d5fe6abe29a8"
   },
   "outputs": [
    {
     "data": {
      "text/plain": [
       "[(25, User(id=1, age=25, social_contacts=240, gender='female')),\n",
       " (25, User(id=2, age=25, social_contacts=500, gender='female')),\n",
       " (33, User(id=3, age=33, social_contacts=800, gender='female'))]"
      ]
     },
     "execution_count": 22,
     "metadata": {
      "tags": []
     },
     "output_type": "execute_result"
    }
   ],
   "source": [
    "map_output = flatten(map(lambda x: MAP(*x), RECORDREADER()))\n",
    "map_output = list(map_output) # materialize\n",
    "map_output"
   ]
  },
  {
   "cell_type": "code",
   "execution_count": null,
   "metadata": {
    "id": "8ncYDJ3-VzDn"
   },
   "outputs": [],
   "source": [
    "def groupbykey(iterable):\n",
    "  t = {}\n",
    "  for (k2, v2) in iterable:\n",
    "    t[k2] = t.get(k2, []) + [v2]\n",
    "  return t.items()"
   ]
  },
  {
   "cell_type": "code",
   "execution_count": null,
   "metadata": {
    "colab": {
     "base_uri": "https://localhost:8080/",
     "height": 85
    },
    "id": "cKzY_6COWOA2",
    "outputId": "e6791b12-e409-47e9-bcd4-e9f8ca8611bd"
   },
   "outputs": [
    {
     "data": {
      "text/plain": [
       "[(25,\n",
       "  [User(id=1, age=25, social_contacts=240, gender='female'),\n",
       "   User(id=2, age=25, social_contacts=500, gender='female')]),\n",
       " (33, [User(id=3, age=33, social_contacts=800, gender='female')])]"
      ]
     },
     "execution_count": 24,
     "metadata": {
      "tags": []
     },
     "output_type": "execute_result"
    }
   ],
   "source": [
    "shuffle_output = groupbykey(map_output)\n",
    "shuffle_output = list(shuffle_output)\n",
    "shuffle_output"
   ]
  },
  {
   "cell_type": "code",
   "execution_count": null,
   "metadata": {
    "colab": {
     "base_uri": "https://localhost:8080/",
     "height": 34
    },
    "id": "NlA7lkDDYL0t",
    "outputId": "6b25d03f-5c92-4f3b-f500-6d70acd598b7"
   },
   "outputs": [
    {
     "data": {
      "text/plain": [
       "[(25, 370.0), (33, 800.0)]"
      ]
     },
     "execution_count": 25,
     "metadata": {
      "tags": []
     },
     "output_type": "execute_result"
    }
   ],
   "source": [
    "reduce_output = flatten(map(lambda x: REDUCE(*x), shuffle_output))\n",
    "reduce_output = list(reduce_output)\n",
    "reduce_output"
   ]
  },
  {
   "cell_type": "markdown",
   "metadata": {
    "id": "xf6qhHEtd6bI"
   },
   "source": [
    "Все действия одним конвейером!"
   ]
  },
  {
   "cell_type": "code",
   "execution_count": null,
   "metadata": {
    "colab": {
     "base_uri": "https://localhost:8080/",
     "height": 34
    },
    "id": "dZaQGYxCdpw5",
    "outputId": "3f5c6425-e5c5-49d2-b2cd-ce58a9acc33c"
   },
   "outputs": [
    {
     "data": {
      "text/plain": [
       "[(25, 370.0), (33, 800.0)]"
      ]
     },
     "execution_count": 26,
     "metadata": {
      "tags": []
     },
     "output_type": "execute_result"
    }
   ],
   "source": [
    "list(flatten(map(lambda x: REDUCE(*x), groupbykey(flatten(map(lambda x: MAP(*x), RECORDREADER()))))))"
   ]
  },
  {
   "cell_type": "markdown",
   "metadata": {
    "id": "Vq3EWRIpwSiJ"
   },
   "source": [
    "# **MapReduce**\n",
    "Выделим общую для всех пользователей часть системы в отдельную функцию высшего порядка. Это наиболее простая модель MapReduce, без учёта распределённого хранения данных. \n",
    "\n",
    "Пользователь для решения своей задачи реализует RECORDREADER, MAP, REDUCE."
   ]
  },
  {
   "cell_type": "code",
   "execution_count": 26,
   "metadata": {
    "id": "V1PZeQMwwVjc"
   },
   "outputs": [],
   "source": [
    "def flatten(nested_iterable):\n",
    "  for iterable in nested_iterable:\n",
    "    for element in iterable:\n",
    "      yield element\n",
    "\n",
    "def groupbykey(iterable):\n",
    "  t = {}\n",
    "  for (k2, v2) in iterable:\n",
    "    t[k2] = t.get(k2, []) + [v2]\n",
    "  return t.items()\n",
    "\n",
    "def MapReduce(RECORDREADER, MAP, REDUCE):\n",
    "  return flatten(map(lambda x: REDUCE(*x), groupbykey(flatten(map(lambda x: MAP(*x), RECORDREADER())))))"
   ]
  },
  {
   "cell_type": "markdown",
   "metadata": {
    "id": "iFIVrimep678"
   },
   "source": [
    "## Спецификация MapReduce\n",
    "\n",
    "\n",
    "\n",
    "```\n",
    "f (k1, v1) -> (k2,v2)*\n",
    "g (k2, v2*) -> (k3,v3)*\n",
    " \n",
    "mapreduce ((k1,v1)*) -> (k3,v3)*\n",
    "groupby ((k2,v2)*) -> (k2,v2*)*\n",
    "flatten (e2**) -> e2*\n",
    " \n",
    "mapreduce .map(f).flatten.groupby(k2).map(g).flatten\n",
    "```\n",
    "\n",
    "\n"
   ]
  },
  {
   "cell_type": "markdown",
   "metadata": {
    "id": "QtTFyqke3KGe"
   },
   "source": [
    "# Примеры"
   ]
  },
  {
   "cell_type": "markdown",
   "metadata": {
    "id": "BNhh5763w5Vn"
   },
   "source": [
    "## SQL "
   ]
  },
  {
   "cell_type": "code",
   "execution_count": null,
   "metadata": {
    "colab": {
     "base_uri": "https://localhost:8080/",
     "height": 34
    },
    "id": "QkyurnvGxBGk",
    "outputId": "84761282-d2ba-435a-e8d7-a85150730e10"
   },
   "outputs": [
    {
     "data": {
      "text/plain": [
       "[(25, 370.0), (33, 800.0)]"
      ]
     },
     "execution_count": 28,
     "metadata": {
      "tags": []
     },
     "output_type": "execute_result"
    }
   ],
   "source": [
    "from typing import NamedTuple # requires python 3.6+\n",
    "from typing import Iterator\n",
    "\n",
    "class User(NamedTuple):\n",
    "  id: int\n",
    "  age: str\n",
    "  social_contacts: int\n",
    "  gender: str\n",
    "    \n",
    "input_collection = [\n",
    "    User(id=0, age=55, gender='male', social_contacts=20),\n",
    "    User(id=1, age=25, gender='female', social_contacts=240),\n",
    "    User(id=2, age=25, gender='female', social_contacts=500),\n",
    "    User(id=3, age=33, gender='female', social_contacts=800)\n",
    "]\n",
    "\n",
    "def MAP(_, row:NamedTuple):\n",
    "  if (row.gender == 'female'):\n",
    "    yield (row.age, row)\n",
    "    \n",
    "def REDUCE(age:str, rows:Iterator[NamedTuple]):\n",
    "  sum = 0\n",
    "  count = 0\n",
    "  for row in rows:\n",
    "    sum += row.social_contacts\n",
    "    count += 1\n",
    "  if (count > 0):\n",
    "    yield (age, sum/count)\n",
    "  else:\n",
    "    yield (age, 0)\n",
    " \n",
    "def RECORDREADER():\n",
    "  return [(u.id, u) for u in input_collection]\n",
    "\n",
    "output = MapReduce(RECORDREADER, MAP, REDUCE)\n",
    "output = list(output)\n",
    "output"
   ]
  },
  {
   "cell_type": "markdown",
   "metadata": {
    "id": "kNKYIeerx0nY"
   },
   "source": [
    "## Matrix-Vector multiplication "
   ]
  },
  {
   "cell_type": "code",
   "execution_count": null,
   "metadata": {
    "colab": {
     "base_uri": "https://localhost:8080/",
     "height": 102
    },
    "id": "rwcntRcCyi1V",
    "outputId": "606737ab-6b55-455c-931f-4fc45155f8a9"
   },
   "outputs": [
    {
     "data": {
      "text/plain": [
       "[(0, 2.905589809636405),\n",
       " (1, 2.905589809636405),\n",
       " (2, 2.905589809636405),\n",
       " (3, 2.905589809636405),\n",
       " (4, 2.905589809636405)]"
      ]
     },
     "execution_count": 29,
     "metadata": {
      "tags": []
     },
     "output_type": "execute_result"
    }
   ],
   "source": [
    "from typing import Iterator\n",
    "import numpy as np\n",
    "\n",
    "mat = np.ones((5,4))\n",
    "vec = np.random.rand(4) # in-memory vector in all map tasks\n",
    "\n",
    "def MAP(coordinates:(int, int), value:int):\n",
    "  i, j = coordinates\n",
    "  yield (i, value*vec[j])\n",
    " \n",
    "def REDUCE(i:int, products:Iterator[NamedTuple]):\n",
    "  sum = 0\n",
    "  for p in products:\n",
    "    sum += p\n",
    "  yield (i, sum)\n",
    "\n",
    "def RECORDREADER():\n",
    "  for i in range(mat.shape[0]):\n",
    "    for j in range(mat.shape[1]):\n",
    "      yield ((i, j), mat[i,j])\n",
    "      \n",
    "output = MapReduce(RECORDREADER, MAP, REDUCE)\n",
    "output = list(output)\n",
    "output"
   ]
  },
  {
   "cell_type": "markdown",
   "metadata": {
    "id": "ruZREYdi2o4O"
   },
   "source": [
    "## Inverted index "
   ]
  },
  {
   "cell_type": "code",
   "execution_count": null,
   "metadata": {
    "colab": {
     "base_uri": "https://localhost:8080/",
     "height": 102
    },
    "id": "vt9H9Alf3TYv",
    "outputId": "51aeffc9-e111-4607-bd84-cfcc7b56f238"
   },
   "outputs": [
    {
     "data": {
      "text/plain": [
       "[('what', ['0', '1']),\n",
       " ('is', ['0', '1', '2']),\n",
       " ('it', ['0', '1', '2']),\n",
       " ('a', ['2']),\n",
       " ('banana', ['2'])]"
      ]
     },
     "execution_count": 30,
     "metadata": {
      "tags": []
     },
     "output_type": "execute_result"
    }
   ],
   "source": [
    "from typing import Iterator\n",
    "\n",
    "d1 = \"it is what it is\"\n",
    "d2 = \"what is it\"\n",
    "d3 = \"it is a banana\"\n",
    "documents = [d1, d2, d3]\n",
    "\n",
    "def RECORDREADER():\n",
    "  for (docid, document) in enumerate(documents):\n",
    "    yield (\"{}\".format(docid), document)\n",
    "      \n",
    "def MAP(docId:str, body:str):\n",
    "  for word in set(body.split(' ')):\n",
    "    yield (word, docId)\n",
    " \n",
    "def REDUCE(word:str, docIds:Iterator[str]):\n",
    "  yield (word, sorted(docIds))\n",
    "\n",
    "output = MapReduce(RECORDREADER, MAP, REDUCE)\n",
    "output = list(output)\n",
    "output"
   ]
  },
  {
   "cell_type": "markdown",
   "metadata": {
    "id": "R7az-6DA6qr2"
   },
   "source": [
    "## WordCount"
   ]
  },
  {
   "cell_type": "code",
   "execution_count": null,
   "metadata": {
    "colab": {
     "base_uri": "https://localhost:8080/",
     "height": 34
    },
    "id": "dN-nbtgG6uYG",
    "outputId": "24117576-7931-401d-a581-28e246b23453"
   },
   "outputs": [
    {
     "data": {
      "text/plain": [
       "[('', 3), ('it', 9), ('is', 9), ('what', 5), ('a', 1), ('banana', 1)]"
      ]
     },
     "execution_count": 31,
     "metadata": {
      "tags": []
     },
     "output_type": "execute_result"
    }
   ],
   "source": [
    "from typing import Iterator\n",
    "\n",
    "d1 = \"\"\"\n",
    "it is what it is\n",
    "it is what it is\n",
    "it is what it is\"\"\"\n",
    "d2 = \"\"\"\n",
    "what is it\n",
    "what is it\"\"\"\n",
    "d3 = \"\"\"\n",
    "it is a banana\"\"\"\n",
    "documents = [d1, d2, d3]\n",
    "\n",
    "def RECORDREADER():\n",
    "  for (docid, document) in enumerate(documents):\n",
    "    for (lineid, line) in enumerate(document.split('\\n')):\n",
    "      yield (\"{}:{}\".format(docid,lineid), line)\n",
    "\n",
    "def MAP(docId:str, line:str):\n",
    "  for word in line.split(\" \"):  \n",
    "    yield (word, 1)\n",
    " \n",
    "def REDUCE(word:str, counts:Iterator[int]):\n",
    "  sum = 0\n",
    "  for c in counts:\n",
    "    sum += c\n",
    "  yield (word, sum)\n",
    "\n",
    "output = MapReduce(RECORDREADER, MAP, REDUCE)\n",
    "output = list(output)\n",
    "output"
   ]
  },
  {
   "cell_type": "markdown",
   "metadata": {
    "id": "h-jRAcYCAkkk"
   },
   "source": [
    "# MapReduce Distributed\n",
    "\n",
    "Добавляется в модель фабрика RECORDREARER-ов --- INPUTFORMAT, функция распределения промежуточных результатов по партициям PARTITIONER, и функция COMBINER для частичной аггрегации промежуточных результатов до распределения по новым партициям."
   ]
  },
  {
   "cell_type": "code",
   "execution_count": 49,
   "metadata": {
    "id": "nw-b-xJsApgW"
   },
   "outputs": [],
   "source": [
    "def flatten(nested_iterable):\n",
    "  for iterable in nested_iterable:\n",
    "    for element in iterable:\n",
    "      yield element\n",
    "\n",
    "def groupbykey(iterable):\n",
    "  t = {}\n",
    "  for (k2, v2) in iterable:\n",
    "    t[k2] = t.get(k2, []) + [v2]\n",
    "  return t.items()\n",
    "      \n",
    "def groupbykey_distributed(map_partitions, PARTITIONER):\n",
    "  global reducers\n",
    "  partitions = [dict() for _ in range(reducers)]\n",
    "  for map_partition in map_partitions:\n",
    "    for (k2, v2) in map_partition:\n",
    "      p = partitions[PARTITIONER(k2)]\n",
    "      p[k2] = p.get(k2, []) + [v2]\n",
    "  return [(partition_id, sorted(partition.items(), key=lambda x: x[0])) for (partition_id, partition) in enumerate(partitions)]\n",
    " \n",
    "def PARTITIONER(obj):\n",
    "  global reducers\n",
    "  return hash(obj) % reducers\n",
    "  \n",
    "def MapReduceDistributed(INPUTFORMAT, MAP, REDUCE, PARTITIONER=PARTITIONER, COMBINER=None):\n",
    "  map_partitions = map(lambda record_reader: flatten(map(lambda k1v1: MAP(*k1v1), record_reader)), INPUTFORMAT())\n",
    "  if COMBINER != None:\n",
    "    map_partitions = map(lambda map_partition: flatten(map(lambda k2v2: COMBINER(*k2v2), groupbykey(map_partition))), map_partitions)\n",
    "  reduce_partitions = groupbykey_distributed(map_partitions, PARTITIONER) # shuffle\n",
    "  reduce_outputs = map(lambda reduce_partition: (reduce_partition[0], flatten(map(lambda reduce_input_group: REDUCE(*reduce_input_group), reduce_partition[1]))), reduce_partitions)\n",
    "  \n",
    "  print(\"{} key-value pairs were sent over a network.\".format(sum([len(vs) for (k,vs) in flatten([partition for (partition_id, partition) in reduce_partitions])])))\n",
    "  return reduce_outputs"
   ]
  },
  {
   "cell_type": "markdown",
   "metadata": {
    "id": "kxirlf3XqZxY"
   },
   "source": [
    "## Спецификация MapReduce Distributed\n",
    "\n",
    "\n",
    "```\n",
    "f (k1, v1) -> (k2,v2)*\n",
    "g (k2, v2*) -> (k3,v3)*\n",
    " \n",
    "e1 (k1, v1)\n",
    "e2 (k2, v2)\n",
    "partition1 (k2, v2)*\n",
    "partition2 (k2, v2*)*\n",
    " \n",
    "flatmap (e1->e2*, e1*) -> partition1*\n",
    "groupby (partition1*) -> partition2*\n",
    "\n",
    "mapreduce ((k1,v1)*) -> (k3,v3)*\n",
    "mapreduce .flatmap(f).groupby(k2).flatmap(g)\n",
    "```\n",
    "\n"
   ]
  },
  {
   "cell_type": "markdown",
   "metadata": {
    "id": "CWYw_CpbbY3C"
   },
   "source": [
    "## WordCount "
   ]
  },
  {
   "cell_type": "code",
   "execution_count": null,
   "metadata": {
    "colab": {
     "base_uri": "https://localhost:8080/",
     "height": 68
    },
    "id": "uR_zfGFkMZlp",
    "outputId": "c8d46167-473d-43b9-881a-2396991b3731"
   },
   "outputs": [
    {
     "name": "stdout",
     "output_type": "stream",
     "text": [
      "56 key-value pairs were sent over a network.\n"
     ]
    },
    {
     "data": {
      "text/plain": [
       "[(0, [('', 6), ('a', 2), ('banana', 2), ('is', 18), ('it', 18), ('what', 10)]),\n",
       " (1, [])]"
      ]
     },
     "execution_count": 33,
     "metadata": {
      "tags": []
     },
     "output_type": "execute_result"
    }
   ],
   "source": [
    "from typing import Iterator\n",
    "import numpy as np\n",
    "\n",
    "d1 = \"\"\"\n",
    "it is what it is\n",
    "it is what it is\n",
    "it is what it is\"\"\"\n",
    "d2 = \"\"\"\n",
    "what is it\n",
    "what is it\"\"\"\n",
    "d3 = \"\"\"\n",
    "it is a banana\"\"\"\n",
    "documents = [d1, d2, d3, d1, d2, d3]\n",
    "\n",
    "maps = 3\n",
    "reducers = 2\n",
    "\n",
    "def INPUTFORMAT():\n",
    "  global maps\n",
    "  \n",
    "  def RECORDREADER(split):\n",
    "    for (docid, document) in enumerate(split):\n",
    "      for (lineid, line) in enumerate(document.split('\\n')):\n",
    "        yield (\"{}:{}\".format(docid,lineid), line)\n",
    "      \n",
    "  split_size =  int(np.ceil(len(documents)/maps))\n",
    "  for i in range(0, len(documents), split_size):\n",
    "    yield RECORDREADER(documents[i:i+split_size])\n",
    "\n",
    "def MAP(docId:str, line:str):\n",
    "  for word in line.split(\" \"):  \n",
    "    yield (word, 1)\n",
    " \n",
    "def REDUCE(word:str, counts:Iterator[int]):\n",
    "  sum = 0\n",
    "  for c in counts:\n",
    "    sum += c\n",
    "  yield (word, sum)\n",
    "  \n",
    "# try to set COMBINER=REDUCER and look at the number of values sent over the network \n",
    "partitioned_output = MapReduceDistributed(INPUTFORMAT, MAP, REDUCE, COMBINER=None) \n",
    "partitioned_output = [(partition_id, list(partition)) for (partition_id, partition) in partitioned_output]\n",
    "partitioned_output"
   ]
  },
  {
   "cell_type": "markdown",
   "metadata": {
    "id": "gCJGx8IQ87xS"
   },
   "source": [
    "## TeraSort"
   ]
  },
  {
   "cell_type": "code",
   "execution_count": null,
   "metadata": {
    "colab": {
     "base_uri": "https://localhost:8080/",
     "height": 578
    },
    "id": "P2v8v1v_8_YR",
    "outputId": "e0987c25-9757-46cb-8e55-d5d2adfbee2b"
   },
   "outputs": [
    {
     "name": "stdout",
     "output_type": "stream",
     "text": [
      "30 key-value pairs were sent over a network.\n"
     ]
    },
    {
     "data": {
      "text/plain": [
       "[(0,\n",
       "  [(None, 0.0059671639991895065),\n",
       "   (None, 0.07724245496172),\n",
       "   (None, 0.08440804135613444),\n",
       "   (None, 0.13575647907181598),\n",
       "   (None, 0.14404826813474803),\n",
       "   (None, 0.21204275967955666),\n",
       "   (None, 0.21869633101751806),\n",
       "   (None, 0.25055756276216923),\n",
       "   (None, 0.28642389538931257),\n",
       "   (None, 0.3834487515438496),\n",
       "   (None, 0.3913614390023946),\n",
       "   (None, 0.4041378102237341),\n",
       "   (None, 0.41854626274930695),\n",
       "   (None, 0.4704310153549396),\n",
       "   (None, 0.4776995227348928),\n",
       "   (None, 0.48992216726013693)]),\n",
       " (1,\n",
       "  [(None, 0.5005353544023048),\n",
       "   (None, 0.5135664686748047),\n",
       "   (None, 0.53391984417089),\n",
       "   (None, 0.5587932025401512),\n",
       "   (None, 0.5673804905854288),\n",
       "   (None, 0.6926646597910275),\n",
       "   (None, 0.7237444251339501),\n",
       "   (None, 0.7557883138083207),\n",
       "   (None, 0.785709769245918),\n",
       "   (None, 0.7937098630029404),\n",
       "   (None, 0.7942646850708935),\n",
       "   (None, 0.9160468126494941),\n",
       "   (None, 0.9618068292060864),\n",
       "   (None, 0.9820764489731459)])]"
      ]
     },
     "execution_count": 34,
     "metadata": {
      "tags": []
     },
     "output_type": "execute_result"
    }
   ],
   "source": [
    "import numpy as np\n",
    "\n",
    "input_values = np.random.rand(30)\n",
    "maps = 3\n",
    "reducers = 2\n",
    "min_value = 0.0\n",
    "max_value = 1.0\n",
    "\n",
    "def INPUTFORMAT():\n",
    "  global maps\n",
    "  \n",
    "  def RECORDREADER(split):\n",
    "    for value in split:\n",
    "        yield (value, None)\n",
    "      \n",
    "  split_size =  int(np.ceil(len(input_values)/maps))\n",
    "  for i in range(0, len(input_values), split_size):\n",
    "    yield RECORDREADER(input_values[i:i+split_size])\n",
    "    \n",
    "def MAP(value:int, _):\n",
    "  yield (value, None)\n",
    "  \n",
    "def PARTITIONER(key):\n",
    "  global reducers\n",
    "  global max_value\n",
    "  global min_value\n",
    "  bucket_size = (max_value-min_value)/reducers\n",
    "  bucket_id = 0\n",
    "  while((key>(bucket_id+1)*bucket_size) and ((bucket_id+1)*bucket_size<max_value)):\n",
    "    bucket_id += 1\n",
    "  return bucket_id\n",
    "\n",
    "def REDUCE(value:int, _):\n",
    "  yield (None,value)\n",
    "  \n",
    "partitioned_output = MapReduceDistributed(INPUTFORMAT, MAP, REDUCE, COMBINER=None, PARTITIONER=PARTITIONER)\n",
    "partitioned_output = [(partition_id, list(partition)) for (partition_id, partition) in partitioned_output]\n",
    "partitioned_output"
   ]
  },
  {
   "cell_type": "code",
   "execution_count": null,
   "metadata": {
    "id": "MQhoJaVZI93G"
   },
   "outputs": [],
   "source": []
  },
  {
   "cell_type": "markdown",
   "metadata": {
    "id": "Iy65YJTH99iT"
   },
   "source": [
    "# Упражнения\n",
    "Упражнения взяты из Rajaraman A., Ullman J. D. Mining of massive datasets. – Cambridge University Press, 2011.\n",
    "\n",
    "\n",
    "Для выполнения заданий переопределите функции RECORDREADER, MAP, REDUCE. Для модели распределённой системы может потребоваться переопределение функций PARTITION и COMBINER."
   ]
  },
  {
   "cell_type": "markdown",
   "metadata": {
    "id": "cfvAeZm3S8S8"
   },
   "source": [
    "### Максимальное значение ряда\n",
    "\n",
    "Разработайте MapReduce алгоритм, который находит максимальное число входного списка чисел."
   ]
  },
  {
   "cell_type": "code",
   "execution_count": 2,
   "metadata": {
    "id": "3GRA1JR-Tkbg"
   },
   "outputs": [],
   "source": [
    "def RECORDREADER(input_data):\n",
    "    records = []\n",
    "    for number in input_data:\n",
    "        records.append((None, number))\n",
    "    return records\n",
    "\n",
    "def MAP(key, value):\n",
    "    yield (\"max\", value)\n",
    "\n",
    "def REDUCE(key, values):\n",
    "    max_value = max(values)\n",
    "    yield (key, max_value)"
   ]
  },
  {
   "cell_type": "code",
   "execution_count": 6,
   "metadata": {},
   "outputs": [
    {
     "name": "stdout",
     "output_type": "stream",
     "text": [
      "\n",
      "Mapped values after MAP:\n",
      "[[('max', 3)], [('max', 8)], [('max', 2)], [('max', 10)], [('max', 5)]]\n",
      "\n",
      "Reduced values after REDUCE:\n",
      "[[('max', 10)]]\n"
     ]
    }
   ],
   "source": [
    "# Применим функцию MAP к каждой записи\n",
    "mapped_values = [list(MAP(None, value)) for _, value in records]\n",
    "print(\"\\nMapped values after MAP:\")\n",
    "print(mapped_values)\n",
    "\n",
    "# Соберем все значения для каждого ключа\n",
    "grouped_values = {}\n",
    "for mapped_value in mapped_values:\n",
    "    key, value = mapped_value[0]  # Получаем кортеж из списка\n",
    "    grouped_values.setdefault(key, []).append(value)\n",
    "\n",
    "# Применим функцию REDUCE к сгруппированным значениям\n",
    "reduced_values = [list(REDUCE(key, values)) for key, values in grouped_values.items()]\n",
    "print(\"\\nReduced values after REDUCE:\")\n",
    "print(reduced_values)\n"
   ]
  },
  {
   "cell_type": "markdown",
   "metadata": {
    "id": "k86bXnqZTk-U"
   },
   "source": [
    "### Арифметическое среднее\n",
    "\n",
    "Разработайте MapReduce алгоритм, который находит арифметическое среднее.\n",
    "\n",
    "$$\\overline{X} = \\frac{1}{n}\\sum_{i=0}^{n} x_i$$\n"
   ]
  },
  {
   "cell_type": "code",
   "execution_count": 7,
   "metadata": {
    "id": "MPoY5pkfUNZf"
   },
   "outputs": [],
   "source": [
    "def record_reader(input_data):\n",
    "    records = []\n",
    "    for number in input_data:\n",
    "        records.append((None, float(number)))  # преобразуем строку в число\n",
    "    return records\n",
    "\n",
    "def mapper(key, value):\n",
    "    # Отправляем значение с ключом \"mean\" и пару (число, 1) для каждого числа\n",
    "    yield \"mean\", (value, 1)\n",
    "\n",
    "def reducer(key, values):\n",
    "    total_sum = 0\n",
    "    total_count = 0\n",
    "    for num, count in values:\n",
    "        total_sum += num\n",
    "        total_count += count\n",
    "    mean = total_sum / total_count if total_count != 0 else 0  # избегаем деления на ноль\n",
    "    yield key, mean"
   ]
  },
  {
   "cell_type": "code",
   "execution_count": 8,
   "metadata": {},
   "outputs": [
    {
     "name": "stdout",
     "output_type": "stream",
     "text": [
      "[[('mean', 5.6)]]\n"
     ]
    }
   ],
   "source": [
    "\n",
    "# Входные данные\n",
    "input_data = [\"3\", \"8\", \"2\", \"10\", \"5\"]\n",
    "\n",
    "# Шаг 1: Чтение записей\n",
    "records = record_reader(input_data)\n",
    "\n",
    "# Шаг 2: Отображение (Map)\n",
    "mapped_values = [list(mapper(None, value)) for _, value in records]\n",
    "\n",
    "# Шаг 3: Редукция (Reduce)\n",
    "grouped_values = {}\n",
    "for values in mapped_values:\n",
    "    key, value = values[0]\n",
    "    grouped_values.setdefault(key, []).append(value)\n",
    "\n",
    "reduced_values = [list(reducer(key, values)) for key, values in grouped_values.items()]\n",
    "\n",
    "\n",
    "print(reduced_values)"
   ]
  },
  {
   "cell_type": "markdown",
   "metadata": {
    "id": "xanzszhsIlLe"
   },
   "source": [
    "### GroupByKey на основе сортировки\n",
    "\n",
    "Реализуйте groupByKey на основе сортировки, проверьте его работу на примерах"
   ]
  },
  {
   "cell_type": "code",
   "execution_count": 7,
   "metadata": {
    "id": "hQPn3USsIkEC"
   },
   "outputs": [
    {
     "name": "stdout",
     "output_type": "stream",
     "text": [
      "a: [1, 3, 6]\n",
      "b: [2, 4]\n",
      "c: [5]\n"
     ]
    }
   ],
   "source": [
    "def group_by_key_sorted(input_data):\n",
    "    # Сортируем данные по ключу\n",
    "    sorted_data = sorted(input_data, key=lambda x: x[0])\n",
    "    \n",
    "    grouped_data = {}\n",
    "    current_key = None\n",
    "    current_values = []\n",
    "    \n",
    "    # Проходим по отсортированным данным и группируем их по ключу\n",
    "    for key, value in sorted_data:\n",
    "        if key != current_key:\n",
    "            if current_key is not None:\n",
    "                grouped_data[current_key] = current_values\n",
    "            current_key = key\n",
    "            current_values = [value]\n",
    "        else:\n",
    "            current_values.append(value)\n",
    "    \n",
    "    # Добавляем последнюю группу\n",
    "    if current_key is not None:\n",
    "        grouped_data[current_key] = current_values\n",
    "    \n",
    "    return grouped_data\n",
    "\n",
    "input_data = [(\"a\", 1), (\"b\", 2), (\"a\", 3), (\"b\", 4), (\"c\", 5), (\"a\", 6)]\n",
    "\n",
    "grouped_data = group_by_key_sorted(input_data)\n",
    "\n",
    "\n",
    "for key, values in grouped_data.items():\n",
    "    print(f\"{key}: {values}\")\n"
   ]
  },
  {
   "cell_type": "markdown",
   "metadata": {
    "id": "5SgEjCZyGnu6"
   },
   "source": [
    "### Drop duplicates (set construction, unique elements, distinct)\n",
    "\n",
    "Реализуйте распределённую операцию исключения дубликатов"
   ]
  },
  {
   "cell_type": "code",
   "execution_count": 10,
   "metadata": {
    "id": "okjbyApjGhMt"
   },
   "outputs": [
    {
     "name": "stdout",
     "output_type": "stream",
     "text": [
      "['apple', 'banana', 'orange']\n"
     ]
    }
   ],
   "source": [
    "def record_reader(input_data):\n",
    "    records = []\n",
    "    for item in input_data:\n",
    "        records.append((item, None))  # каждый элемент сопоставляется с None\n",
    "    return records\n",
    "\n",
    "def mapper(key, value):\n",
    "    yield key, None  # отправляем ключ с маркером None\n",
    "\n",
    "def reducer(key, values):\n",
    "    yield key, None  # просто игнорируем все значения и возвращаем только ключ\n",
    "\n",
    "def drop_duplicates(input_data):\n",
    "    # Шаг 1: Чтение записей\n",
    "    records = record_reader(input_data)\n",
    "\n",
    "    # Шаг 2: Отображение (Map)\n",
    "    mapped_values = [list(mapper(key, value)) for key, value in records]\n",
    "\n",
    "    # Шаг 3: Редукция (Reduce)\n",
    "    grouped_values = {}\n",
    "    for values in mapped_values:\n",
    "        key, _ = values[0]  # получаем только ключ\n",
    "        grouped_values.setdefault(key, None)  # сохраняем только уникальные ключи\n",
    "    return list(grouped_values.keys())\n",
    "\n",
    "\n",
    "input_data = [\"apple\", \"banana\", \"apple\", \"orange\", \"banana\"]\n",
    "\n",
    "\n",
    "unique_elements = drop_duplicates(input_data)\n",
    "\n",
    "print(unique_elements)\n"
   ]
  },
  {
   "cell_type": "markdown",
   "metadata": {
    "id": "e7sRGoTXuJze"
   },
   "source": [
    "#Операторы реляционной алгебры\n",
    "### Selection (Выборка)\n",
    "\n",
    "**The Map Function**: Для  каждого кортежа $t \\in R$ вычисляется истинность предиката $C$. В случае истины создаётся пара ключ-значение $(t, t)$. В паре ключ и значение одинаковы, равны $t$.\n",
    "\n",
    "**The Reduce Function:** Роль функции Reduce выполняет функция идентичности, которая возвращает то же значение, что получила на вход.\n",
    "\n"
   ]
  },
  {
   "cell_type": "code",
   "execution_count": 11,
   "metadata": {
    "id": "4nKIKe59uIfc"
   },
   "outputs": [
    {
     "name": "stdout",
     "output_type": "stream",
     "text": [
      "Selected tuples: [((3, 'c'), (3, 'c')), ((4, 'd'), (4, 'd')), ((5, 'e'), (5, 'e'))]\n"
     ]
    }
   ],
   "source": [
    "# Оператор выборки (Selection) в MapReduce\n",
    "\n",
    "def selection_mapper(relation, condition):\n",
    "    selected_tuples = []\n",
    "    for tuple in relation:\n",
    "        if condition(tuple):  # Проверяем выполнение условия\n",
    "            selected_tuples.append((tuple, tuple))  # Создаем пару ключ-значение (t, t)\n",
    "    return selected_tuples\n",
    "\n",
    "def selection_reducer(selected_tuples):\n",
    "    return selected_tuples  # Функция идентичности, возвращаем полученные значения\n",
    "\n",
    "# Пример использования:\n",
    "R = [(1, 'a'), (2, 'b'), (3, 'c'), (4, 'd'), (5, 'e')]\n",
    "\n",
    "# Условие выборки: выбрать кортежи с первым элементом больше 2\n",
    "condition = lambda tuple: tuple[0] > 2\n",
    "\n",
    "selected_tuples = selection_mapper(R, condition)\n",
    "\n",
    "\n",
    "print(\"Selected tuples:\", selected_tuples)\n"
   ]
  },
  {
   "cell_type": "markdown",
   "metadata": {
    "id": "w27Ca-_Ku85V"
   },
   "source": [
    "### Projection (Проекция)\n",
    "\n",
    "Проекция на множество атрибутов $S$.\n",
    "\n",
    "**The Map Function:** Для каждого кортежа $t \\in R$ создайте кортеж $t′$, исключая  из $t$ те значения, атрибуты которых не принадлежат  $S$. Верните пару $(t′, t′)$.\n",
    "\n",
    "**The Reduce Function:** Для каждого ключа $t′$, созданного любой Map задачей, вы получаете одну или несколько пар $(t′, t′)$. Reduce функция преобразует $(t′, [t′, t′, . . . , t′])$ в $(t′, t′)$, так, что для ключа $t′$ возвращается одна пара  $(t′, t′)$."
   ]
  },
  {
   "cell_type": "code",
   "execution_count": 14,
   "metadata": {
    "id": "BEvuY4GqvhS6"
   },
   "outputs": [
    {
     "name": "stdout",
     "output_type": "stream",
     "text": [
      "Projected tuples: [((1, True), (1, True)), ((2, False), (2, False)), ((3, True), (3, True)), ((4, False), (4, False)), ((5, True), (5, True))]\n"
     ]
    }
   ],
   "source": [
    "# Оператор проекции (Projection) в MapReduce\n",
    "\n",
    "def projection_mapper(relation, attributes):\n",
    "    projected_tuples = []\n",
    "    for tup in relation:  # Изменяем имя переменной tuple на tup\n",
    "        projected_tuple = tuple(tup[i] for i in attributes)  # Оставляем только указанные атрибуты\n",
    "        projected_tuples.append((projected_tuple, projected_tuple))  # Создаем пару ключ-значение (t', t')\n",
    "    return projected_tuples\n",
    "\n",
    "def projection_reducer(projected_tuples):\n",
    "    return [(key, value) for key, _ in projected_tuples]  # Возвращаем первые значения в парах ключ-значение\n",
    "\n",
    "R = [(1, 'a', True), (2, 'b', False), (3, 'c', True), (4, 'd', False), (5, 'e', True)]\n",
    "\n",
    "# Множество атрибутов, на которые будет проекция\n",
    "attributes = [0, 2]  # В данном случае атрибуты имеют индексы 0 и 2\n",
    "\n",
    "projected_tuples = projection_mapper(R, attributes)\n",
    "\n",
    "print(\"Projected tuples:\", projected_tuples)\n"
   ]
  },
  {
   "cell_type": "markdown",
   "metadata": {
    "id": "7gau6lKXvn2R"
   },
   "source": [
    "### Union (Объединение)\n",
    "\n",
    "**The Map Function:** Превратите каждый входной кортеж $t$ в пару ключ-значение $(t, t)$.\n",
    "\n",
    "**The Reduce Function:** С каждым ключом $t$ будет ассоциировано одно или два значений. В обоих случаях создайте $(t, t)$ в качестве выходного значения."
   ]
  },
  {
   "cell_type": "code",
   "execution_count": 15,
   "metadata": {
    "id": "Sns7a5agv3nw"
   },
   "outputs": [
    {
     "name": "stdout",
     "output_type": "stream",
     "text": [
      "Union tuples: [((1, 'a'), (1, 'a')), ((2, 'b'), (2, 'b')), ((3, 'c'), (3, 'c')), ((4, 'd'), (4, 'd')), ((5, 'e'), (5, 'e'))]\n"
     ]
    }
   ],
   "source": [
    "# Оператор объединения (Union) в MapReduce\n",
    "\n",
    "def union_mapper(relation):\n",
    "    union_tuples = []\n",
    "    for tuple in relation:\n",
    "        union_tuples.append((tuple, tuple))  # Создаем пару ключ-значение (t, t)\n",
    "    return union_tuples\n",
    "\n",
    "def union_reducer(union_tuples):\n",
    "    return [(key, value) for key, _ in union_tuples]  # Возвращаем первые значения в парах ключ-значение\n",
    "\n",
    "R1 = [(1, 'a'), (2, 'b'), (3, 'c')]\n",
    "R2 = [(4, 'd'), (5, 'e')]\n",
    "\n",
    "union_tuples = union_mapper(R1 + R2)\n",
    "\n",
    "print(\"Union tuples:\", union_tuples)\n"
   ]
  },
  {
   "cell_type": "markdown",
   "metadata": {
    "id": "dQ8TuEbjv4J8"
   },
   "source": [
    "### Intersection (Пересечение)\n",
    "\n",
    "**The Map Function:** Превратите каждый кортеж $t$ в пары ключ-значение $(t, t)$.\n",
    "\n",
    "**The Reduce Function:** Если для ключа $t$ есть список из двух элементов $[t, t]$ $-$ создайте пару $(t, t)$. Иначе, ничего не создавайте."
   ]
  },
  {
   "cell_type": "code",
   "execution_count": 1,
   "metadata": {
    "id": "XKlBZh4IwERR"
   },
   "outputs": [
    {
     "name": "stdout",
     "output_type": "stream",
     "text": [
      "Intersection results: [((1, 'a'), (1, 'a')), ((2, 'b'), (2, 'b')), ((3, 'c'), (3, 'c')), ((4, 'd'), (4, 'd'))]\n"
     ]
    }
   ],
   "source": [
    "# Оператор пересечения (Intersection) в MapReduce\n",
    "\n",
    "def intersection_mapper(relation):\n",
    "    intersection_tuples = []\n",
    "    for tuple in relation:\n",
    "        intersection_tuples.append((tuple, tuple))  # Создаем пару ключ-значение (t, t)\n",
    "    return intersection_tuples\n",
    "\n",
    "def intersection_reducer(intersection_tuples):\n",
    "    intersection_results = []\n",
    "    seen = set()  # Создаем множество для хранения уже увиденных ключей\n",
    "    for key, value in intersection_tuples:\n",
    "        if key == value and key not in seen:  # Проверяем, что значения кортежей совпадают и текущий ключ еще не был обработан\n",
    "            intersection_results.append((key, value))  # Добавляем в результат пару (t, t)\n",
    "            seen.add(key)  # Добавляем ключ во множество уже увиденных\n",
    "    return intersection_results\n",
    "\n",
    "R1 = [(1, 'a'), (2, 'b'), (3, 'c')]\n",
    "R2 = [(2, 'b'), (3, 'c'), (4, 'd')]\n",
    "\n",
    "intersection_tuples = intersection_mapper(R1 + R2)\n",
    "\n",
    "intersection_results = intersection_reducer(intersection_tuples)\n",
    "\n",
    "print(\"Intersection results:\", intersection_results)\n"
   ]
  },
  {
   "cell_type": "markdown",
   "metadata": {
    "id": "AVOpqoY3wE5k"
   },
   "source": [
    "### Difference (Разница)\n",
    "\n",
    "**The Map Function:** Для кортежа $t \\in R$, создайте пару $(t, R)$, и для кортежа $t \\in S$, создайте пару $(t, S)$. Задумка заключается в том, чтобы значение пары было именем отношения $R$ or $S$, которому принадлежит кортеж (а лучше, единичный бит, по которому можно два отношения различить $R$ or $S$), а не весь набор атрибутов отношения.\n",
    "\n",
    "**The Reduce Function:** Для каждого ключа $t$, если соответствующее значение является списком $[R]$, создайте пару $(t, t)$. В иных случаях не предпринимайте действий."
   ]
  },
  {
   "cell_type": "code",
   "execution_count": 24,
   "metadata": {
    "id": "QE_AC09lwZIZ"
   },
   "outputs": [
    {
     "name": "stdout",
     "output_type": "stream",
     "text": [
      "Difference results: [(1, 'a'), (2, 'b'), (3, 'c')]\n"
     ]
    }
   ],
   "source": [
    "# Оператор разницы (Difference) в MapReduce\n",
    "\n",
    "def difference_mapper(relation, name):\n",
    "    difference_tuples = []\n",
    "    for tuple in relation:\n",
    "        difference_tuples.append((tuple, name))  # Создаем пару (t, name)\n",
    "    return difference_tuples\n",
    "\n",
    "def difference_reducer(difference_tuples):\n",
    "    difference_results = []\n",
    "    for key, value in difference_tuples:\n",
    "        if value == \"R\":  # Проверяем, принадлежит ли кортеж отношению R\n",
    "            difference_results.append(key)  # Добавляем кортеж в результат\n",
    "    return difference_results\n",
    "\n",
    "R = [(1, 'a'), (2, 'b'), (3, 'c')]\n",
    "S = [(2, 'b'), (3, 'c'), (4, 'd')]\n",
    "\n",
    "difference_tuples = difference_mapper(R, \"R\") + difference_mapper(S, \"S\")\n",
    "\n",
    "difference_results = difference_reducer(difference_tuples)\n",
    "\n",
    "print(\"Difference results:\", difference_results)\n"
   ]
  },
  {
   "cell_type": "markdown",
   "metadata": {
    "id": "j8I58V2VwhSm"
   },
   "source": [
    "### Natural Join\n",
    "\n",
    "**The Map Function:** Для каждого кортежа $(a, b)$ отношения $R$, создайте пару $(b,(R, a))$. Для каждого кортежа $(b, c)$ отношения $S$, создайте пару $(b,(S, c))$.\n",
    "\n",
    "**The Reduce Function:** Каждый ключ $b$ будет асоциирован со списком пар, которые принимают форму либо $(R, a)$, либо $(S, c)$. Создайте все пары, одни, состоящие из  первого компонента $R$, а другие, из первого компонента $S$, то есть $(R, a)$ и $(S, c)$. На выходе вы получаете последовательность пар ключ-значение из списков ключей и значений. Ключ не нужен. Каждое значение, это тройка $(a, b, c)$ такая, что $(R, a)$ и $(S, c)$ это принадлежат входному списку значений."
   ]
  },
  {
   "cell_type": "code",
   "execution_count": 35,
   "metadata": {
    "id": "yHiuuTctw86I"
   },
   "outputs": [],
   "source": [
    "\n",
    "# Определение классов\n",
    "User = namedtuple('User', ['id', 'age', 'social_contacts', 'gender', 'city_id'])\n",
    "City = namedtuple('City', ['id', 'name'])\n",
    "\n",
    "# Простые данные\n",
    "users_collection = [\n",
    "    User(id=1, age=22, gender=\"male\", social_contacts=30, city_id=1),\n",
    "    User(id=2, age=30, gender=\"female\", social_contacts=150, city_id=2),\n",
    "    User(id=3, age=25, gender=\"male\", social_contacts=100, city_id=2),\n",
    "    User(id=4, age=40, gender=\"male\", social_contacts=80, city_id=3),\n",
    "    User(id=5, age=35, gender=\"female\", social_contacts=200, city_id=4),\n",
    "]\n",
    "\n",
    "cities_collection = [\n",
    "    City(id=1, name=\"New York\"),\n",
    "    City(id=2, name=\"Los Angeles\"),\n",
    "    City(id=3, name=\"Chicago\"),\n",
    "    City(id=4, name=\"Houston\"),\n",
    "]"
   ]
  },
  {
   "cell_type": "code",
   "execution_count": 36,
   "metadata": {},
   "outputs": [
    {
     "data": {
      "text/plain": [
       "[(User(id=1, age=22, social_contacts=30, gender='male', city_id=1),\n",
       "  1,\n",
       "  City(id=1, name='New York')),\n",
       " (User(id=2, age=30, social_contacts=150, gender='female', city_id=2),\n",
       "  2,\n",
       "  City(id=2, name='Los Angeles')),\n",
       " (User(id=3, age=25, social_contacts=100, gender='male', city_id=2),\n",
       "  2,\n",
       "  City(id=2, name='Los Angeles')),\n",
       " (User(id=4, age=40, social_contacts=80, gender='male', city_id=3),\n",
       "  3,\n",
       "  City(id=3, name='Chicago')),\n",
       " (User(id=5, age=35, social_contacts=200, gender='female', city_id=4),\n",
       "  4,\n",
       "  City(id=4, name='Houston'))]"
      ]
     },
     "execution_count": 36,
     "metadata": {},
     "output_type": "execute_result"
    }
   ],
   "source": [
    "# Группировка пользователей по id города\n",
    "def MAP_JOIN(city_id, row):\n",
    "    yield (city_id, row)\n",
    "\n",
    "\n",
    "def REDUCE_JOIN(city_id, rows):\n",
    "    users = []\n",
    "    city = None\n",
    "\n",
    "    # Цикл для определения города (он будет единственным, так как группировка происходит по id города)\n",
    "    for row in rows:\n",
    "        if type(row) is User:\n",
    "            users += [row]\n",
    "        else:\n",
    "            city = row\n",
    "\n",
    "    for row in rows:\n",
    "        if type(row) is User:\n",
    "            # Возвращает тройки (a,b,c), где a - пользователь, b - id города, c - сам город\n",
    "            yield (row, row.city_id, city)\n",
    "\n",
    "\n",
    "# На первом месте стоит id города, на втором - сам город или пользователь\n",
    "def RECORDREADER():\n",
    "    return [(user.city_id, user) for user in users_collection] + [\n",
    "        (city.id, city) for city in cities_collection\n",
    "    ]\n",
    "\n",
    "\n",
    "output = MapReduce(RECORDREADER, MAP_JOIN, REDUCE_JOIN)\n",
    "output = list(output)\n",
    "joined_data = output\n",
    "joined_data"
   ]
  },
  {
   "cell_type": "markdown",
   "metadata": {
    "id": "kYdlr0YUxE27"
   },
   "source": [
    "### Grouping and Aggregation (Группировка и аггрегация)\n",
    "\n",
    "**The Map Function:** Для каждого кортежа $(a, b, c$) создайте пару $(a, b)$.\n",
    "\n",
    "**The Reduce Function:** Ключ представляет ту или иную группу. Примение аггрегирующую операцию $\\theta$ к списку значений $[b1, b2, . . . , bn]$ ассоциированных с ключом $a$. Возвращайте в выходной поток $(a, x)$, где $x$ результат применения  $\\theta$ к списку. Например, если $\\theta$ это $SUM$, тогда $x = b1 + b2 + · · · + bn$, а если $\\theta$ is $MAX$, тогда $x$ это максимальное из значений $b1, b2, . . . , bn$."
   ]
  },
  {
   "cell_type": "code",
   "execution_count": 38,
   "metadata": {
    "id": "MLPckfEGxico"
   },
   "outputs": [],
   "source": [
    "def map_function(tuple):\n",
    "    # Для каждого кортежа (a, b, c) создаем пару (a, b)\n",
    "    return (tuple[0], tuple[1])\n",
    "\n",
    "def reduce_function(key, values, operation):\n",
    "    # Применяем агрегирующую операцию к списку значений\n",
    "    if operation == 'SUM':\n",
    "        result = sum(values)\n",
    "    elif operation == 'MAX':\n",
    "        result = max(values)\n",
    "    elif operation == 'MIN':\n",
    "        result = min(values)\n",
    "    else:\n",
    "        raise ValueError(\"Unsupported operation\")\n",
    "\n",
    "    # Возвращаем пару (key, result)\n",
    "    return (key, result)"
   ]
  },
  {
   "cell_type": "code",
   "execution_count": 43,
   "metadata": {},
   "outputs": [
    {
     "name": "stdout",
     "output_type": "stream",
     "text": [
      "Результат суммирования: [(1, 100), (2, 60)]\n",
      "Результат поиска максимума: [(1, 60), (2, 40)]\n"
     ]
    }
   ],
   "source": [
    "def map_reduce(data, map_function, reduce_function, operation):\n",
    "    # Шаг маппинга\n",
    "    mapped_data = []\n",
    "    for tuple in data:\n",
    "        mapped_data.append(map_function(tuple))\n",
    "\n",
    "    # Группировка по ключу\n",
    "    grouped_data = {}\n",
    "    for key, value in mapped_data:\n",
    "        if key not in grouped_data:\n",
    "            grouped_data[key] = []\n",
    "        grouped_data[key].append(value)\n",
    "\n",
    "    # Шаг редукции\n",
    "    reduced_data = []\n",
    "    for key, values in grouped_data.items():\n",
    "        reduced_data.append(reduce_function(key, values, operation))\n",
    "\n",
    "    return reduced_data\n",
    "\n",
    "# Пример данных\n",
    "data = [\n",
    "    (1, 10, 0),\n",
    "    (2, 20, 0),\n",
    "    (1, 30, 0),\n",
    "    (1,60, 0),\n",
    "    (2, 40, 0),\n",
    "]\n",
    "\n",
    "# Применяем операцию MapReduce с суммированием\n",
    "result_sum = map_reduce(data, map_function, reduce_function, 'SUM')\n",
    "print(\"Результат суммирования:\", result_sum)\n",
    "\n",
    "# Применяем операцию MapReduce с нахождением максимума\n",
    "result_max = map_reduce(data, map_function, reduce_function, 'MAX')\n",
    "print(\"Результат поиска максимума:\", result_max)"
   ]
  },
  {
   "cell_type": "markdown",
   "metadata": {
    "id": "03IffTEOJgOb"
   },
   "source": [
    "# "
   ]
  },
  {
   "cell_type": "markdown",
   "metadata": {
    "id": "IIrRgvG4RIS4"
   },
   "source": [
    "### Matrix-Vector multiplication\n",
    "\n",
    "Случай, когда вектор не помещается в памяти Map задачи\n"
   ]
  },
  {
   "cell_type": "code",
   "execution_count": null,
   "metadata": {
    "id": "KQhDbiL3zS9r"
   },
   "outputs": [],
   "source": []
  },
  {
   "cell_type": "markdown",
   "metadata": {
    "id": "GIo2t7nNxvA9"
   },
   "source": [
    "## Matrix multiplication (Перемножение матриц)\n",
    "\n",
    "Если у нас есть матрица $M$ с элементами $m_{ij}$ в строке $i$ и столбце $j$, и матрица $N$ с элементами $n_{jk}$ в строке $j$ и столбце $k$, тогда их произведение $P = MN$ есть матрица $P$ с элементами $p_{ik}$ в строке $i$ и столбце $k$, где\n",
    "\n",
    "$$p_{ik} =\\sum_{j} m_{ij}n_{jk}$$\n",
    "\n",
    "Необходимым требованием является одинаковое количество столбцов в $M$ и строк в $N$, чтобы операция суммирования по  $j$ была осмысленной. Мы можем размышлять о матрице, как об отношении с тремя атрибутами: номер строки, номер столбца, само значение. Таким образом матрица $M$ предстваляется как отношение $ M(I, J, V )$, с кортежами $(i, j, m_{ij})$, и, аналогично, матрица $N$ представляется как отношение $N(J, K, W)$, с кортежами $(j, k, n_{jk})$. Так как большие матрицы как правило разреженные (большинство значений равно 0), и так как мы можем нулевыми значениями пренебречь (не хранить), такое реляционное представление достаточно эффективно для больших матриц. Однако, возможно, что координаты $i$, $j$, и $k$ неявно закодированы в смещение позиции элемента относительно начала файла, вместо явного хранения. Тогда, функция Map (или Reader) должна быть разработана таким образом, чтобы реконструировать компоненты $I$, $J$, и $K$ кортежей из смещения.\n",
    "\n",
    "Произведение $MN$ это фактически join, за которым следуют группировка по ключу и аггрегация. Таким образом join отношений $M(I, J, V )$ и $N(J, K, W)$, имеющих общим только атрибут $J$, создаст кортежи $(i, j, k, v, w)$ из каждого кортежа $(i, j, v) \\in M$ и кортежа $(j, k, w) \\in N$. Такой 5 компонентный кортеж представляет пару элементов матрицы $(m_{ij} , n_{jk})$. Что нам хотелось бы получить на самом деле, это произведение этих элементов, то есть, 4 компонентный кортеж$(i, j, k, v \\times w)$, так как он представляет произведение $m_{ij}n_{jk}$. Мы представляем отношение как результат одной MapReduce операции, в которой мы можем произвести группировку и аггрегацию, с $I$ и $K$  атрибутами, по которым идёт группировка, и суммой  $V \\times W$. \n",
    "\n",
    "\n",
    "\n"
   ]
  },
  {
   "cell_type": "code",
   "execution_count": null,
   "metadata": {
    "id": "1MBkGaLAYVCt"
   },
   "outputs": [],
   "source": [
    "# MapReduce model\n",
    "def flatten(nested_iterable):\n",
    "  for iterable in nested_iterable:\n",
    "    for element in iterable:\n",
    "      yield element\n",
    "\n",
    "def groupbykey(iterable):\n",
    "  t = {}\n",
    "  for (k2, v2) in iterable:\n",
    "    t[k2] = t.get(k2, []) + [v2]\n",
    "  return t.items()\n",
    "\n",
    "def MapReduce(RECORDREADER, MAP, REDUCE):\n",
    "  return flatten(map(lambda x: REDUCE(*x), groupbykey(flatten(map(lambda x: MAP(*x), RECORDREADER())))))"
   ]
  },
  {
   "cell_type": "markdown",
   "metadata": {
    "id": "sMspsOT0ZB35"
   },
   "source": [
    "Реализуйте перемножение матриц с использованием модельного кода MapReduce для одной машины в случае, когда одна матрица хранится в памяти, а другая генерируется RECORDREADER-ом."
   ]
  },
  {
   "cell_type": "code",
   "execution_count": 45,
   "metadata": {
    "id": "psP1XekbsEjS"
   },
   "outputs": [],
   "source": [
    "import numpy as np\n",
    "I = 2\n",
    "J = 3\n",
    "K = 4*10\n",
    "small_mat = np.random.rand(I,J) # it is legal to access this from RECORDREADER, MAP, REDUCE\n",
    "big_mat = np.random.rand(J,K)\n",
    "\n",
    "def RECORDREADER():\n",
    "  for j in range(big_mat.shape[0]):\n",
    "    for k in range(big_mat.shape[1]):\n",
    "      yield ((j,k), big_mat[j,k])\n",
    "      \n",
    "def MAP(k1, v1):\n",
    "  (j, k) = k1\n",
    "  w = v1\n",
    "  # solution code that yield(k2,v2) pairs\n",
    "  \n",
    "def REDUCE(key, values):\n",
    "  (i, k) = key\n",
    "  # solution code that yield(k3,v3) pairs"
   ]
  },
  {
   "cell_type": "markdown",
   "metadata": {
    "id": "rnt306LHhHrm"
   },
   "source": [
    "Проверьте своё решение"
   ]
  },
  {
   "cell_type": "code",
   "execution_count": null,
   "metadata": {
    "colab": {
     "base_uri": "https://localhost:8080/",
     "height": 34
    },
    "id": "Ewy_ZNYqW5a2",
    "outputId": "9ce264f2-9412-44e2-9b0a-cc780573ab3a"
   },
   "outputs": [
    {
     "data": {
      "text/plain": [
       "True"
      ]
     },
     "execution_count": 33,
     "metadata": {
      "tags": []
     },
     "output_type": "execute_result"
    }
   ],
   "source": [
    "# CHECK THE SOLUTION\n",
    "reference_solution = np.matmul(small_mat, big_mat) \n",
    "solution = MapReduce(RECORDREADER, MAP, REDUCE)\n",
    "\n",
    "def asmatrix(reduce_output):\n",
    "  reduce_output = list(reduce_output)\n",
    "  I = max(i for ((i,k), vw) in reduce_output)+1\n",
    "  K = max(k for ((i,k), vw) in reduce_output)+1\n",
    "  mat = np.empty(shape=(I,K))\n",
    "  for ((i,k), vw) in reduce_output:\n",
    "    mat[i,k] = vw\n",
    "  return mat\n",
    "\n",
    "np.allclose(reference_solution, asmatrix(solution)) # should return true"
   ]
  },
  {
   "cell_type": "code",
   "execution_count": null,
   "metadata": {
    "colab": {
     "base_uri": "https://localhost:8080/",
     "height": 34
    },
    "id": "TK7v4CEcfxqf",
    "outputId": "2c865d0a-4065-4e6b-c83f-5508ed5eb4fa"
   },
   "outputs": [
    {
     "data": {
      "text/plain": [
       "1"
      ]
     },
     "execution_count": 32,
     "metadata": {
      "tags": []
     },
     "output_type": "execute_result"
    }
   ],
   "source": [
    "reduce_output = list(MapReduce(RECORDREADER, MAP, REDUCE))\n",
    "max(i for ((i,k), vw) in reduce_output)"
   ]
  },
  {
   "cell_type": "markdown",
   "metadata": {
    "id": "i4yyg3kOZqJJ"
   },
   "source": [
    "Реализуйте перемножение матриц  с использованием модельного кода MapReduce для одной машины в случае, когда обе матрицы генерируются в RECORDREADER. Например, сначала одна, а потом другая."
   ]
  },
  {
   "cell_type": "code",
   "execution_count": 46,
   "metadata": {
    "id": "3B7rIAJCaHZq"
   },
   "outputs": [],
   "source": [
    "I = 2\n",
    "J = 3\n",
    "K = 4 * 10\n",
    "small_mat = np.random.rand(I, J)\n",
    "big_mat = np.random.rand(J, K)\n",
    "\n",
    "\n",
    "# Генерирует пары элементов из обоих матриц вместе с соответствующими им индексами\n",
    "# Элементы в паре предназначены для перемножения и дальнейшего суммирования (M[i,j] и N[i,k])\n",
    "def RECORDREADER():\n",
    "    for i in range(I):\n",
    "        for j in range(J):\n",
    "            for k in range(K):\n",
    "                yield (((i, j), small_mat[i, j]), ((j, k), big_mat[j, k]))\n",
    "\n",
    "\n",
    "# Перемножает полученные элементы двух матриц\n",
    "# Группирует произведения по индексу, соответствующему клетке в результирующей матрице\n",
    "# Таким образом, для каждого ключа (i, k) генерируется J произведений\n",
    "def MAP(element1, element2):\n",
    "    (i, j), v1 = element1\n",
    "    (j, k), v2 = element2\n",
    "\n",
    "    yield ((i, k), v1 * v2)\n",
    "\n",
    "\n",
    "# Суммирует полученные произведения для вычисления элементов результирующей матрицы\n",
    "def REDUCE(key, values):\n",
    "    (i, k) = key\n",
    "\n",
    "    # solution code that yield(k3,v3) pairs\n",
    "    k3 = (i, k)\n",
    "\n",
    "    v3 = 0\n",
    "    for j in range(J):\n",
    "        v3 += values[j]\n",
    "\n",
    "    yield (k3, v3)"
   ]
  },
  {
   "cell_type": "code",
   "execution_count": 47,
   "metadata": {},
   "outputs": [
    {
     "data": {
      "text/plain": [
       "True"
      ]
     },
     "execution_count": 47,
     "metadata": {},
     "output_type": "execute_result"
    }
   ],
   "source": [
    "# CHECK THE SOLUTION\n",
    "reference_solution = np.matmul(small_mat, big_mat)\n",
    "solution = MapReduce(RECORDREADER, MAP, REDUCE)\n",
    "\n",
    "def asmatrix(reduce_output):\n",
    "  reduce_output = list(reduce_output)\n",
    "  I = max(i for ((i,k), vw) in reduce_output)+1\n",
    "  K = max(k for ((i,k), vw) in reduce_output)+1\n",
    "  mat = np.empty(shape=(I,K))\n",
    "  for ((i,k), vw) in reduce_output:\n",
    "    mat[i,k] = vw\n",
    "  return mat\n",
    "\n",
    "np.allclose(reference_solution, asmatrix(solution)) # should return true"
   ]
  },
  {
   "cell_type": "markdown",
   "metadata": {
    "id": "mXyzQi1DaIwo"
   },
   "source": [
    "Реализуйте перемножение матриц с использованием модельного кода MapReduce Distributed, когда каждая матрица генерируется в своём RECORDREADER. "
   ]
  },
  {
   "cell_type": "code",
   "execution_count": 50,
   "metadata": {
    "id": "TDM_s78Rb5eR"
   },
   "outputs": [
    {
     "name": "stdout",
     "output_type": "stream",
     "text": [
      "240 key-value pairs were sent over a network.\n",
      "[[1.63544037 2.29373659 0.71274961 0.99094195 1.03467102 0.61732011\n",
      "  1.62357506 2.20524261 0.8070986  1.62847154 1.72244338 0.56227706\n",
      "  2.37835642 1.31809456 0.50741842 1.90133955 1.9909832  1.48765261\n",
      "  1.52970479 1.49267639 1.05081468 1.27917597 0.91335231 1.21609615\n",
      "  1.49238527 1.71723853 1.13120643 2.05654655 1.68757134 1.48425003\n",
      "  1.00943256 1.42502282 0.73815063 1.17601678 1.56332198 1.63938092\n",
      "  1.81546926 1.14297004 1.08061976 0.61805257]\n",
      " [0.42563097 0.82503127 0.20467993 0.22421322 0.23719746 0.23150122\n",
      "  0.59170804 0.64280665 0.31755402 0.85953813 0.81710215 0.0658076\n",
      "  0.86956362 0.39685883 0.22588835 0.64233129 0.78026322 0.24978065\n",
      "  0.39947759 0.40576777 0.2857537  0.41462108 0.43335791 0.42672988\n",
      "  0.605676   0.73582276 0.69707557 0.6536482  0.47612548 0.75452036\n",
      "  0.25644093 0.63594799 0.40987649 0.47504106 0.46929818 0.45766752\n",
      "  0.71145257 0.29045648 0.39269412 0.16606477]]\n"
     ]
    },
    {
     "data": {
      "text/plain": [
       "True"
      ]
     },
     "execution_count": 50,
     "metadata": {},
     "output_type": "execute_result"
    }
   ],
   "source": [
    "maps = 2\n",
    "reducers = 2\n",
    "\n",
    "\n",
    "def INPUTFORMAT():\n",
    "    global maps\n",
    "\n",
    "    # Так же, как и раньше, генерируются пары элементов из обоих матриц\n",
    "    def RECORDREADER(i_range):\n",
    "        for i in i_range:\n",
    "            for j in range(J):\n",
    "                for k in range(K):\n",
    "                    yield (((i, j), small_mat[i, j]), ((j, k), big_mat[j, k]))\n",
    "\n",
    "    # Разделение между вычислительными узлами происходит по строкам первой матрицы\n",
    "    split_size = int(np.ceil(I / maps))\n",
    "    for i in range(0, I, split_size):\n",
    "        yield RECORDREADER(range(i, i + split_size))\n",
    "\n",
    "\n",
    "# Возвращает произведения соответствующих элементов из обоих матриц, группируя их по индексу в результирующей матрице\n",
    "def MAP(element1, element2):\n",
    "    (i, j), v1 = element1\n",
    "    (j, k), v2 = element2\n",
    "\n",
    "    yield ((i, k), v1 * v2)\n",
    "\n",
    "\n",
    "# Суммирует полученные произведения\n",
    "def REDUCE(key, values):\n",
    "    (i, k) = key\n",
    "\n",
    "    # solution code that yield(k3,v3) pairs\n",
    "    k3 = (i, k)\n",
    "\n",
    "    v3 = 0\n",
    "    for j in range(J):\n",
    "        v3 += values[j]\n",
    "\n",
    "    yield (k3, v3)\n",
    "\n",
    "\n",
    "# try to set COMBINER=REDUCER and look at the number of values sent over the network\n",
    "partitioned_output = MapReduceDistributed(INPUTFORMAT, MAP, REDUCE, COMBINER=None)\n",
    "partitioned_output = [\n",
    "    (partition_id, list(partition)) for (partition_id, partition) in partitioned_output\n",
    "]\n",
    "\n",
    "# Соединение полученных произведений с разных вычислительных узлов\n",
    "solution = []\n",
    "for output_part in partitioned_output:\n",
    "    for element in output_part[1]:\n",
    "        solution += [element]\n",
    "\n",
    "print(asmatrix(solution))\n",
    "np.allclose(reference_solution, asmatrix(solution))  # should return true"
   ]
  },
  {
   "cell_type": "markdown",
   "metadata": {
    "id": "ZuSA2P9Db6UM"
   },
   "source": [
    "Обобщите предыдущее решение на случай, когда каждая матрица генерируется несколькими RECORDREADER-ами, и проверьте его работоспособность. Будет ли работать решение, если RECORDREADER-ы будут генерировать случайное подмножество элементов матрицы?"
   ]
  },
  {
   "cell_type": "code",
   "execution_count": 51,
   "metadata": {
    "id": "ehN0FqRDcwU5"
   },
   "outputs": [
    {
     "name": "stdout",
     "output_type": "stream",
     "text": [
      "126 key-value pairs were sent over a network.\n",
      "aa (0, [((0, 0), 0.03958056847057354), ((0, 1), 0.08892169628371085), ((0, 2), 0.2196615520839417), ((0, 3), 0.472626930339029), ((0, 4), 0.21466891515709058), ((0, 5), 0.11326351387602727), ((0, 6), 0.6354932395129124), ((0, 7), 0.44388138966805274), ((0, 8), 0.5147673805609104), ((0, 9), 0.16134608424129698), ((0, 10), 0.12306563286683249), ((0, 11), 0.06463731143493087), ((0, 12), 0.6965781965890289), ((0, 13), 0.2389730592941976), ((0, 14), 0.753916951470482), ((0, 15), 0.4112350335203873), ((0, 16), 0.47663093139127766), ((0, 17), 0.33879765849653193), ((0, 18), 0.3562328675771002), ((0, 19), 0.3446539496033303), ((0, 20), 0.4888828536031975), ((0, 21), 0.45880547742103395), ((0, 22), 0.3660085373752523), ((0, 23), 0.7106057198187479), ((0, 24), 0.6787010190445081), ((0, 25), 0.20599506293702763), ((0, 26), 0.750988060949888), ((0, 27), 0.5163651915832722), ((0, 28), 0.1294260638363276), ((0, 29), 0.0932140282590233), ((0, 30), 0.2589041813864706), ((0, 31), 0.47890349479809735), ((0, 32), 0.6806237846371362), ((0, 33), 0.2336291583678193), ((0, 34), 0.3555250218567782), ((0, 35), 0.03196733118877171), ((0, 36), 0.6183443384828358), ((0, 37), 0.7067628386051575), ((0, 38), 0.11966544747798456), ((0, 39), 0.19288857028720457), ((1, 0), 0.03792156400662717), ((1, 1), 0.08519457722562972), ((1, 2), 0.21045452172672038), ((1, 3), 0.4528169524253298), ((1, 4), 0.2056711492765699), ((1, 5), 0.108516116797527), ((1, 6), 0.608856782233541), ((1, 7), 0.42527627015165415), ((1, 8), 0.49319110171389374), ((1, 9), 0.1545833245251099), ((1, 10), 0.11790738370130446), ((1, 11), 0.06192806312568121), ((1, 12), 0.6673813865814093), ((1, 13), 0.2289565944617952), ((1, 14), 0.722316809373881), ((1, 15), 0.3939982735974298), ((1, 16), 0.4566531272973086), ((1, 17), 0.3245970835796204), ((1, 18), 0.3413015025070355), ((1, 19), 0.33020791047345355), ((1, 20), 0.46839151485252917), ((1, 21), 0.4395748204462502), ((1, 22), 0.35066742882600394), ((1, 23), 0.6808209515135228), ((1, 24), 0.6502535241300048), ((1, 25), 0.19736085827123268), ((1, 26), 0.7195106821847861), ((1, 27), 0.4947219410953451), ((1, 28), 0.12400121962735397), ((1, 29), 0.08930699773976451), ((1, 30), 0.24805231115691923), ((1, 31), 0.4588304370738193), ((1, 32), 0.6520956977345804), ((1, 33), 0.22383668110897437), ((1, 34), 0.3406233258706902), ((1, 35), 0.030627432668060645), ((1, 36), 0.5924266708636439), ((1, 37), 0.6771391432034837), ((1, 38), 0.11464971578899401), ((1, 39), 0.18480371927278283), ((0, 0), 0.17412504874251283), ((0, 1), 0.27104071839584637), ((0, 2), 0.1469734581657302), ((0, 3), 0.021210951124717173), ((0, 4), 0.10431749964510065), ((0, 5), 0.19450636291309595), ((0, 6), 0.08124426930939478), ((0, 7), 0.13075415755065325), ((0, 8), 0.2623604851115659), ((0, 9), 0.04639342083431188), ((0, 10), 0.2520513656247171), ((0, 11), 0.1420843119046533), ((0, 12), 0.14501319967937337), ((0, 13), 0.003349427610496182), ((0, 14), 0.14250733201494706), ((0, 15), 0.1861692012172105), ((0, 16), 0.23997713862887216), ((0, 17), 0.15218295218129993), ((0, 18), 0.15629173175932215), ((0, 19), 0.21278681181331138), ((0, 20), 0.2052934275856435), ((0, 21), 0.0574162692921141), ((0, 22), 0.08760912932413475), ((0, 23), 0.12350083906158127), ((0, 24), 0.19302586788887124), ((0, 25), 0.030931552555863884), ((0, 26), 0.20525347067756705), ((0, 27), 0.14454309765505208), ((0, 28), 0.0009711098637413643), ((0, 29), 0.28290733319461847), ((0, 30), 0.08398044092518948), ((0, 31), 0.0024102068325865048), ((0, 32), 0.1372415300087881), ((0, 33), 0.022096805519355077), ((0, 34), 0.07174694400532985), ((0, 35), 0.2660100345114391), ((0, 36), 0.1854934357570602), ((0, 37), 0.10182128371596126), ((0, 38), 0.26568943550298657), ((0, 39), 0.18310373700441102), ((1, 0), 0.17686093959416896), ((1, 1), 0.27529936944714944), ((1, 2), 0.14928273728746355), ((1, 3), 0.021544222228192078), ((1, 4), 0.10595655901655678), ((1, 5), 0.1975624894309398), ((1, 6), 0.08252079703908259), ((1, 7), 0.13280859547352686), ((1, 8), 0.26648275043890673), ((1, 9), 0.04712236440994482), ((1, 10), 0.2560116518117999), ((1, 11), 0.14431677169094528), ((1, 12), 0.14729167879100802), ((1, 13), 0.003402054549721863), ((1, 14), 0.14474643838573784), ((1, 15), 0.18909433242692794), ((1, 16), 0.2437477119204393), ((1, 17), 0.1545740840124618), ((1, 18), 0.15874742163391412), ((1, 19), 0.21613016474269942), ((1, 20), 0.20851904282304248), ((1, 21), 0.05831840627370834), ((1, 22), 0.08898566312653959), ((1, 23), 0.12544131125785948), ((1, 24), 0.19605873254507053), ((1, 25), 0.03141755587518096), ((1, 26), 0.20847845810328672), ((1, 27), 0.1468141904208567), ((1, 28), 0.0009863681543282163), ((1, 29), 0.2873524350931865), ((1, 30), 0.08529995998177871), ((1, 31), 0.0024480765295169186), ((1, 32), 0.1393978989466861), ((1, 33), 0.022443995360838624), ((1, 34), 0.07287424768252068), ((1, 35), 0.27018964235720505), ((1, 36), 0.18840794919205975), ((1, 37), 0.10342112199674944), ((1, 38), 0.26986400602700805), ((1, 39), 0.18598070296991778)])\n",
      "aa (1, [((0, 0), 0.26472357850068823), ((0, 1), 0.4690478768510983), ((0, 2), 0.5519403869928309), ((0, 3), 0.748760211048311), ((0, 4), 0.5671193972568822), ((0, 5), 0.740315658680436), ((0, 6), 0.10089869532411397), ((0, 7), 0.08065919375027047), ((0, 8), 0.480958467224559), ((0, 9), 0.1690782060314558), ((0, 10), 0.7389912901179428), ((0, 11), 0.46476905784773215), ((0, 12), 0.5612767133712402), ((0, 13), 0.5825517528540741), ((0, 14), 0.6822597436597434), ((0, 15), 0.5247831501214312), ((0, 16), 0.7628074912150986), ((0, 17), 0.8144505911379798), ((0, 18), 0.566538934956068), ((0, 19), 0.6559557990583383), ((0, 20), 0.3601522488968756), ((0, 21), 0.687558336879679), ((0, 22), 0.7739503556229708), ((0, 23), 0.1982143445977464), ((0, 24), 0.7404942721133931), ((0, 25), 0.7541355597981502), ((0, 26), 0.7275999582867779), ((0, 27), 0.794943806670843), ((0, 28), 0.6684123555762334), ((0, 29), 0.48013163751964344), ((0, 30), 0.7341731719904177), ((0, 31), 0.7681111348214921), ((0, 32), 0.49311192303257145), ((0, 33), 0.7791342314915095), ((0, 34), 0.1950262723617794), ((0, 35), 0.7743307526500929), ((0, 36), 0.08237487362869819), ((0, 37), 0.2331929622721482), ((0, 38), 0.35442651281701826), ((0, 39), 0.23427534324026258), ((1, 0), 0.023737307717313767), ((1, 1), 0.04205871592559431), ((1, 2), 0.04949154465901877), ((1, 3), 0.0671400395718372), ((1, 4), 0.050852620387606025), ((1, 5), 0.06638283109336879), ((1, 6), 0.009047412371609937), ((1, 7), 0.0072325710959502765), ((1, 8), 0.043126718067265944), ((1, 9), 0.015160951765577649), ((1, 10), 0.06626407724349608), ((1, 11), 0.04167504158904734), ((1, 12), 0.0503287169783443), ((1, 13), 0.052236413156230156), ((1, 14), 0.061177057102772714), ((1, 15), 0.0470564019640634), ((1, 16), 0.0683996350102144), ((1, 17), 0.073030382906901), ((1, 18), 0.050800571332018436), ((1, 19), 0.058818427657224094), ((1, 20), 0.03229423236708583), ((1, 21), 0.06165217283837447), ((1, 22), 0.06939879648574301), ((1, 23), 0.017773539169991782), ((1, 24), 0.06639884705252347), ((1, 25), 0.06762203784371563), ((1, 26), 0.06524263612171217), ((1, 27), 0.07128124311325569), ((1, 28), 0.05993538564350567), ((1, 29), 0.04305257767053001), ((1, 30), 0.06583204488257385), ((1, 31), 0.06887520360527855), ((1, 32), 0.04421649753450299), ((1, 33), 0.06986362571386387), ((1, 34), 0.017487670218994746), ((1, 35), 0.06943290603253402), ((1, 36), 0.007386413158109226), ((1, 37), 0.020910011621618853), ((1, 38), 0.031780815466311556), ((1, 39), 0.021007066860343756)])\n",
      "240 key-value pairs were sent over a network.\n",
      "[((0, 1), 0.8290102915306555), ((0, 2), 0.9185753972425028), ((0, 4), 0.8861058120590735), ((0, 5), 1.0480855354695593), ((0, 8), 1.2580863328970353), ((0, 9), 0.37681771110706463), ((0, 11), 0.6714906811873163), ((0, 12), 1.4028681096396425), ((0, 15), 1.122187384859029), ((0, 16), 1.4794155612352484), ((0, 18), 1.0790635342924904), ((0, 19), 1.2133965604749801), ((0, 22), 1.227568022322358), ((0, 23), 1.0323209034780756), ((0, 25), 0.9910621752910417), ((0, 26), 1.6838414899142329), ((0, 29), 0.8562529989732852), ((0, 32), 1.3109772376784958), ((0, 33), 1.034860195378684), ((0, 36), 0.8862126478685942), ((0, 39), 0.6102676505318781), ((1, 0), 0.2385198113181099), ((1, 1), 0.40255266259837347), ((1, 3), 0.5415012142253591), ((1, 4), 0.3624803286807327), ((1, 7), 0.5653174367211313), ((1, 10), 0.44018311275660044), ((1, 11), 0.2479198764056738), ((1, 14), 0.9282403048623915), ((1, 17), 0.5522015504989832), ((1, 18), 0.550849495472968), ((1, 21), 0.5595453995583329), ((1, 24), 0.9127111037275988), ((1, 25), 0.29640045199012927), ((1, 27), 0.7128173746294575), ((1, 28), 0.18492297342518788), ((1, 31), 0.5301537172086148), ((1, 32), 0.8357100942157695), ((1, 34), 0.43098524377220565), ((1, 35), 0.3702499810577997), ((1, 38), 0.41629453728231364), ((1, 39), 0.39179148910304434), ((0, 0), 0.4784291957137746), ((0, 3), 1.2425980925120572), ((0, 6), 0.8176362041464211), ((0, 7), 0.6552947409689764), ((0, 10), 1.1141082886094924), ((0, 13), 0.8248742397587678), ((0, 14), 1.5786840271451723), ((0, 17), 1.3054312018158116), ((0, 20), 1.0543285300857166), ((0, 21), 1.203780083592827), ((0, 24), 1.6122211590467725), ((0, 27), 1.4558520959091672), ((0, 28), 0.7988095292763023), ((0, 30), 1.0770577943020778), ((0, 31), 1.2494248364521758), ((0, 34), 0.6222982382238874), ((0, 35), 1.0723081183503038), ((0, 37), 1.041777084593267), ((0, 38), 0.7397813957979894), ((1, 2), 0.40922880367320275), ((1, 5), 0.37246143732183556), ((1, 6), 0.7004249916442334), ((1, 8), 0.8028005702200665), ((1, 9), 0.21686664070063238), ((1, 12), 0.8650017823507616), ((1, 13), 0.2845950621677472), ((1, 15), 0.6301490079884211), ((1, 16), 0.7688004742279623), ((1, 19), 0.6051565028733771), ((1, 20), 0.7092047900426575), ((1, 22), 0.5090518884382865), ((1, 23), 0.8240358019413742), ((1, 26), 0.993231776409785), ((1, 29), 0.419712010503481), ((1, 30), 0.3991843160212718), ((1, 33), 0.31614430218367684), ((1, 36), 0.7882210332138128), ((1, 37), 0.801470276821852)]\n"
     ]
    },
    {
     "data": {
      "text/plain": [
       "True"
      ]
     },
     "execution_count": 51,
     "metadata": {},
     "output_type": "execute_result"
    }
   ],
   "source": [
    "import numpy as np\n",
    "I = 2\n",
    "J = 3\n",
    "K = 4*10\n",
    "small_mat = np.random.rand(I,J)\n",
    "big_mat = np.random.rand(J,K)\n",
    "reference_solution = np.matmul(small_mat, big_mat)\n",
    "\n",
    "def INPUTFORMAT():\n",
    "  first_mat = []\n",
    "  for i in range(small_mat.shape[0]):\n",
    "    for j in range(small_mat.shape[1]):\n",
    "      first_mat.append(((0, i, j), small_mat[i,j])) # первая матрица\n",
    "\n",
    "  global maps\n",
    "  split_size =  int(np.ceil(len(first_mat)/maps))\n",
    "  for i in range(0, len(first_mat), split_size):\n",
    "    yield first_mat[i:i+split_size]\n",
    "\n",
    "  second_mat = []\n",
    "  for j in range(big_mat.shape[0]):\n",
    "    for k in range(big_mat.shape[1]):\n",
    "      second_mat.append(((1, j, k), big_mat[j,k])) # вторая матрица\n",
    "\n",
    "  split_size =  int(np.ceil(len(second_mat)/maps))\n",
    "  for i in range(0, len(second_mat), split_size):\n",
    "    yield second_mat[i:i+split_size]\n",
    "\n",
    "\n",
    "def MAP_JOIN(k1, v1):\n",
    "  (mat_num, i, j) = k1\n",
    "  w = v1\n",
    "  if mat_num == 0:\n",
    "    yield (j, (mat_num, i, w))\n",
    "  else:\n",
    "    yield (i, (mat_num, j, w))\n",
    "\n",
    "\n",
    "def REDUCE_JOIN(key, values):\n",
    "  from_first_mat = [v for v in values if v[0] == 0]\n",
    "  from_second_mat = [v for v in values if v[0] == 1]\n",
    "  for f in from_first_mat:\n",
    "    for s in from_second_mat:\n",
    "      yield ((f[1], s[1]), f[2] * s[2])\n",
    "\n",
    "\n",
    "def GET_JOINED():\n",
    "  for j in joined:\n",
    "    print(\"aa\", j)\n",
    "    yield j[1]\n",
    "\n",
    "\n",
    "def MAP_MUL(k1, v1):\n",
    "  yield (k1, v1)\n",
    "\n",
    "\n",
    "def REDUCE_MUL(key, values):\n",
    "  res_val = 0\n",
    "  for v in values:\n",
    "    res_val += v\n",
    "  yield (key, res_val)\n",
    "\n",
    "maps = 3\n",
    "reducers = 2\n",
    "partitioned_output = MapReduceDistributed(INPUTFORMAT, MAP_JOIN, REDUCE_JOIN, COMBINER=None)\n",
    "joined = [(partition_id, list(partition)) for (partition_id, partition) in partitioned_output]\n",
    "\n",
    "mul_output = MapReduceDistributed(GET_JOINED, MAP_MUL, REDUCE_MUL, COMBINER=None)\n",
    "pre_result = [(partition_id, list(partition)) for (partition_id, partition) in mul_output]\n",
    "\n",
    "solution = []\n",
    "for p in pre_result:\n",
    "  for v in p[1]:\n",
    "    solution.append(v)\n",
    "\n",
    "print(solution)\n",
    "np.allclose(reference_solution, asmatrix(solution)) # should return true"
   ]
  },
  {
   "cell_type": "code",
   "execution_count": null,
   "metadata": {},
   "outputs": [],
   "source": []
  }
 ],
 "metadata": {
  "colab": {
   "provenance": []
  },
  "kernelspec": {
   "display_name": "Python 3 (ipykernel)",
   "language": "python",
   "name": "python3"
  },
  "language_info": {
   "codemirror_mode": {
    "name": "ipython",
    "version": 3
   },
   "file_extension": ".py",
   "mimetype": "text/x-python",
   "name": "python",
   "nbconvert_exporter": "python",
   "pygments_lexer": "ipython3",
   "version": "3.8.18"
  }
 },
 "nbformat": 4,
 "nbformat_minor": 1
}
