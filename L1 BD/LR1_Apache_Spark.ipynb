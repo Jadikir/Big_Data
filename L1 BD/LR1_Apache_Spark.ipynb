{
 "cells": [
  {
   "cell_type": "code",
   "execution_count": 1,
   "metadata": {
    "colab": {
     "base_uri": "https://localhost:8080/"
    },
    "id": "QJDlj-KyY-UK",
    "outputId": "e4e7c08b-bf81-4c21-9ea8-e5a2a89e3382"
   },
   "outputs": [
    {
     "name": "stdout",
     "output_type": "stream",
     "text": [
      "Requirement already satisfied: pyspark in d:\\programs\\anaconda\\lib\\site-packages (3.5.1)\n",
      "Requirement already satisfied: py4j==0.10.9.7 in d:\\programs\\anaconda\\lib\\site-packages (from pyspark) (0.10.9.7)\n"
     ]
    }
   ],
   "source": [
    "!pip install pyspark"
   ]
  },
  {
   "cell_type": "code",
   "execution_count": 1,
   "metadata": {
    "id": "mKDfjYPvYz4F"
   },
   "outputs": [],
   "source": [
    "from pyspark import SparkContext, SparkConf\n",
    "\n",
    "import pyspark.sql as sql\n",
    "from pyspark.sql import SparkSession\n",
    "from pyspark.sql.types import DoubleType\n",
    "from pyspark.sql.functions import udf, col, max, sum, countDistinct\n",
    "from typing import NamedTuple\n",
    "from datetime import datetime\n",
    "from functools import reduce"
   ]
  },
  {
   "cell_type": "code",
   "execution_count": 37,
   "metadata": {
    "colab": {
     "base_uri": "https://localhost:8080/",
     "height": 196
    },
    "id": "oqbOTcH0aOVo",
    "outputId": "c69d4979-63de-4023-d34c-3eb1e4cf3ae0"
   },
   "outputs": [
    {
     "data": {
      "text/html": [
       "\n",
       "        <div>\n",
       "            <p><b>SparkContext</b></p>\n",
       "\n",
       "            <p><a href=\"http://HuaweiD15:4041\">Spark UI</a></p>\n",
       "\n",
       "            <dl>\n",
       "              <dt>Version</dt>\n",
       "                <dd><code>v3.5.1</code></dd>\n",
       "              <dt>Master</dt>\n",
       "                <dd><code>local[1]</code></dd>\n",
       "              <dt>AppName</dt>\n",
       "                <dd><code>LR1</code></dd>\n",
       "            </dl>\n",
       "        </div>\n",
       "        "
      ],
      "text/plain": [
       "<SparkContext master=local[1] appName=LR1>"
      ]
     },
     "execution_count": 37,
     "metadata": {},
     "output_type": "execute_result"
    }
   ],
   "source": [
    "app_name = \"LR1\"\n",
    "conf = SparkConf().setAppName(app_name).setMaster('local[1]')\n",
    "sc = SparkContext(conf=conf)\n",
    "sc"
   ]
  },
  {
   "cell_type": "code",
   "execution_count": 38,
   "metadata": {
    "id": "xIVxZwuSaYQE"
   },
   "outputs": [],
   "source": [
    "def initStation(stations):\n",
    "    class Station(NamedTuple):\n",
    "        station_id: int\n",
    "        name: str\n",
    "        lat: float\n",
    "        long: float\n",
    "        dockcount: int\n",
    "        landmark: str\n",
    "        installation: str\n",
    "\n",
    "    for station in stations:\n",
    "        yield Station(\n",
    "            station_id = int(station[0]),\n",
    "            name = station[1],\n",
    "            lat = float(station[2]),\n",
    "            long = float(station[3]),\n",
    "            dockcount = int(station[4]),\n",
    "            landmark = station[5],\n",
    "            installation = datetime.strptime(station[6], '%m/%d/%Y')\n",
    "        )\n",
    "\n",
    "def initTrip(trips):\n",
    "    class Trip(NamedTuple):\n",
    "        trip_id: int\n",
    "        duration: int\n",
    "        start_date: datetime\n",
    "        start_station_name: str\n",
    "        start_station_id: int\n",
    "        end_date: datetime\n",
    "        end_station_name: str\n",
    "        end_station_id: int\n",
    "        bike_id: int\n",
    "        subscription_type: str\n",
    "        zip_code: str\n",
    "\n",
    "    for trip in trips:\n",
    "        try:\n",
    "            yield Trip(\n",
    "             trip_id = int(trip[0]),\n",
    "             duration = int(trip[1]),\n",
    "             start_date = datetime.strptime(trip[2], '%m/%d/%Y %H:%M'),\n",
    "             start_station_name = trip[3],\n",
    "             start_station_id = int(trip[4]),\n",
    "             end_date = datetime.strptime(trip[5], '%m/%d/%Y %H:%M'),\n",
    "             end_station_name = trip[6],\n",
    "             end_station_id = trip[7],\n",
    "             bike_id = int(trip[8]),\n",
    "             subscription_type = trip[9],\n",
    "             zip_code = trip[10]\n",
    "            )\n",
    "        except:\n",
    "            pass"
   ]
  },
  {
   "cell_type": "code",
   "execution_count": 39,
   "metadata": {
    "id": "bbfw-I_Oaf1O"
   },
   "outputs": [],
   "source": [
    "trip_data = sc.textFile(\"trips.csv\")\n",
    "tripsHeader = trip_data.first()\n",
    "trips = trip_data.filter(lambda row: row != tripsHeader).map(lambda row: row.split(\",\", -1))"
   ]
  },
  {
   "cell_type": "code",
   "execution_count": 40,
   "metadata": {},
   "outputs": [],
   "source": [
    "stationData = sc.textFile(\"stations.csv\")\n",
    "stationsHeader = stationData.first()\n",
    "stations = stationData.filter(lambda row: row != stationsHeader).map(lambda row: row.split(\",\", -1))"
   ]
  },
  {
   "cell_type": "code",
   "execution_count": 41,
   "metadata": {
    "id": "29fw2yxxbBXG"
   },
   "outputs": [],
   "source": [
    "stationsIndexed = stations.keyBy(lambda station: station[0])"
   ]
  },
  {
   "cell_type": "code",
   "execution_count": 42,
   "metadata": {
    "colab": {
     "base_uri": "https://localhost:8080/"
    },
    "id": "kQCI_4s_brCv",
    "outputId": "8004e091-6e80-438a-e27e-02de3ed6573b"
   },
   "outputs": [
    {
     "data": {
      "text/plain": [
       "[('2',\n",
       "  ['2',\n",
       "   'San Jose Diridon Caltrain Station',\n",
       "   '37.329732',\n",
       "   '-121.90178200000001',\n",
       "   '27',\n",
       "   'San Jose',\n",
       "   '8/6/2013']),\n",
       " ('3',\n",
       "  ['3',\n",
       "   'San Jose Civic Center',\n",
       "   '37.330698',\n",
       "   '-121.888979',\n",
       "   '15',\n",
       "   'San Jose',\n",
       "   '8/5/2013']),\n",
       " ('4',\n",
       "  ['4',\n",
       "   'Santa Clara at Almaden',\n",
       "   '37.333988',\n",
       "   '-121.894902',\n",
       "   '11',\n",
       "   'San Jose',\n",
       "   '8/6/2013'])]"
      ]
     },
     "execution_count": 42,
     "metadata": {},
     "output_type": "execute_result"
    }
   ],
   "source": [
    "stationsIndexed.take(3)"
   ]
  },
  {
   "cell_type": "code",
   "execution_count": 43,
   "metadata": {
    "id": "9Mo3VDcIb9tu"
   },
   "outputs": [],
   "source": [
    "tripsByStartTerminals = trips.keyBy(lambda trip: trip[4])\n",
    "tripsByEndTerminals = trips.keyBy(lambda trip: trip[7])"
   ]
  },
  {
   "cell_type": "code",
   "execution_count": 44,
   "metadata": {
    "colab": {
     "base_uri": "https://localhost:8080/"
    },
    "id": "D9zHPykUmPcH",
    "outputId": "ec7ed375-117e-45d2-ca16-ed3eb8f8a164"
   },
   "outputs": [
    {
     "data": {
      "text/plain": [
       "[('66',\n",
       "  ['4576',\n",
       "   '63',\n",
       "   '',\n",
       "   'South Van Ness at Market',\n",
       "   '66',\n",
       "   '8/29/2013 14:14',\n",
       "   'South Van Ness at Market',\n",
       "   '66',\n",
       "   '520',\n",
       "   'Subscriber',\n",
       "   '94127']),\n",
       " ('10',\n",
       "  ['4607',\n",
       "   '',\n",
       "   '8/29/2013 14:42',\n",
       "   'San Jose City Hall',\n",
       "   '10',\n",
       "   '8/29/2013 14:43',\n",
       "   'San Jose City Hall',\n",
       "   '10',\n",
       "   '661',\n",
       "   'Subscriber',\n",
       "   '95138']),\n",
       " ('27',\n",
       "  ['4130',\n",
       "   '71',\n",
       "   '8/29/2013 10:16',\n",
       "   'Mountain View City Hall',\n",
       "   '27',\n",
       "   '8/29/2013 10:17',\n",
       "   'Mountain View City Hall',\n",
       "   '27',\n",
       "   '48',\n",
       "   'Subscriber',\n",
       "   '97214'])]"
      ]
     },
     "execution_count": 44,
     "metadata": {},
     "output_type": "execute_result"
    }
   ],
   "source": [
    "tripsByStartTerminals.take(3)"
   ]
  },
  {
   "cell_type": "code",
   "execution_count": 45,
   "metadata": {
    "colab": {
     "base_uri": "https://localhost:8080/"
    },
    "id": "TIrDEa6cmyGj",
    "outputId": "873190b8-9d56-4f8b-ee0e-dd7240cd6ff6"
   },
   "outputs": [
    {
     "data": {
      "text/plain": [
       "[('66',\n",
       "  ['4576',\n",
       "   '63',\n",
       "   '',\n",
       "   'South Van Ness at Market',\n",
       "   '66',\n",
       "   '8/29/2013 14:14',\n",
       "   'South Van Ness at Market',\n",
       "   '66',\n",
       "   '520',\n",
       "   'Subscriber',\n",
       "   '94127']),\n",
       " ('10',\n",
       "  ['4607',\n",
       "   '',\n",
       "   '8/29/2013 14:42',\n",
       "   'San Jose City Hall',\n",
       "   '10',\n",
       "   '8/29/2013 14:43',\n",
       "   'San Jose City Hall',\n",
       "   '10',\n",
       "   '661',\n",
       "   'Subscriber',\n",
       "   '95138']),\n",
       " ('27',\n",
       "  ['4130',\n",
       "   '71',\n",
       "   '8/29/2013 10:16',\n",
       "   'Mountain View City Hall',\n",
       "   '27',\n",
       "   '8/29/2013 10:17',\n",
       "   'Mountain View City Hall',\n",
       "   '27',\n",
       "   '48',\n",
       "   'Subscriber',\n",
       "   '97214'])]"
      ]
     },
     "execution_count": 45,
     "metadata": {},
     "output_type": "execute_result"
    }
   ],
   "source": [
    "tripsByEndTerminals.take(3)"
   ]
  },
  {
   "cell_type": "code",
   "execution_count": 46,
   "metadata": {
    "id": "gItmXHzYo5V7"
   },
   "outputs": [],
   "source": [
    "stations_mapped = stations.mapPartitions(initStation)"
   ]
  },
  {
   "cell_type": "code",
   "execution_count": 47,
   "metadata": {
    "id": "Hu1_1UCvo6Wp"
   },
   "outputs": [],
   "source": [
    "trips_mapped= trips.mapPartitions(initTrip)"
   ]
  },
  {
   "cell_type": "markdown",
   "metadata": {
    "id": "nYhnhNPWoD38"
   },
   "source": [
    "## Задание 1. Найти велосипед с максимальным временем пробега"
   ]
  },
  {
   "cell_type": "code",
   "execution_count": 49,
   "metadata": {
    "colab": {
     "base_uri": "https://localhost:8080/"
    },
    "id": "bc0DPwXyoDBU",
    "outputId": "7c803d63-6073-4541-9dc7-c871b19c52be"
   },
   "outputs": [
    {
     "data": {
      "text/plain": [
       "535"
      ]
     },
     "execution_count": 49,
     "metadata": {},
     "output_type": "execute_result"
    }
   ],
   "source": [
    "max_dur = trips_mapped.keyBy(lambda x: x.bike_id) \\\n",
    "                            .mapValues(lambda x: x.duration) \\\n",
    "                            .reduceByKey(lambda x1, x2: x1 + x2) \\\n",
    "                            .max(key=lambda x: x[1])[0]\n",
    "max_dur"
   ]
  },
  {
   "cell_type": "markdown",
   "metadata": {
    "id": "q4K9aANDp5yt"
   },
   "source": [
    "## Задание 2. Найти наибольшее геодезическое расстояние между станциями\n"
   ]
  },
  {
   "cell_type": "code",
   "execution_count": 51,
   "metadata": {
    "id": "kDKmApJZp60Y"
   },
   "outputs": [],
   "source": [
    "trips_stations = trips_mapped.filter(lambda trip: str(trip.start_station_id) != str(trip.end_station_id))\\\n",
    "                             .keyBy(lambda trip: (trip.start_station_id, trip.end_station_id))\\\n",
    "                             .mapValues(lambda trip: trip.duration)"
   ]
  },
  {
   "cell_type": "code",
   "execution_count": 52,
   "metadata": {
    "colab": {
     "base_uri": "https://localhost:8080/"
    },
    "id": "IsdcIDfNqDHC",
    "outputId": "e17b7d4f-7ccb-4933-9cf0-6fd44ddcaf55"
   },
   "outputs": [
    {
     "data": {
      "text/plain": [
       "[(229914.0, (26, '16')),\n",
       " (179212.5, (32, '63')),\n",
       " (169308.0, (80, '36')),\n",
       " (156461.03603603604, (66, '62')),\n",
       " (101207.5, (28, '2'))]"
      ]
     },
     "execution_count": 52,
     "metadata": {},
     "output_type": "execute_result"
    }
   ],
   "source": [
    "query = trips_stations\\\n",
    "    .aggregateByKey(\n",
    "        (0.0, 0.0),\n",
    "        lambda acc, value: (acc[0] + value, acc[1] + 1),\n",
    "        lambda acc1, acc2: (acc1[0] + acc2[0], acc1[1] + acc2[1]),)\\\n",
    "    .mapValues(lambda values: values[0] / values[1])\n",
    "\n",
    "query.map(lambda x: x[::-1]).top(5)"
   ]
  },
  {
   "cell_type": "markdown",
   "metadata": {
    "id": "_6mFK_ojqtmI"
   },
   "source": [
    "# Задание 3. Найти путь велосипеда с максимальным временем пробега через станции"
   ]
  },
  {
   "cell_type": "code",
   "execution_count": 54,
   "metadata": {
    "colab": {
     "base_uri": "https://localhost:8080/"
    },
    "id": "jiHaw40wqvQN",
    "outputId": "60124d78-5773-416f-c252-1eadaa776dac"
   },
   "outputs": [
    {
     "data": {
      "text/plain": [
       "('Post at Kearney', 'San Francisco Caltrain (Townsend at 4th)')"
      ]
     },
     "execution_count": 54,
     "metadata": {},
     "output_type": "execute_result"
    }
   ],
   "source": [
    "bike_path = trips_mapped.filter(lambda x: x.bike_id == bike_duration_top)\\\n",
    "                        .sortBy(lambda x: x.start_date)\\\n",
    "                        .map(lambda x: (x.start_station_name, x.end_station_name))\n",
    "\n",
    "bike_path.first()"
   ]
  },
  {
   "cell_type": "markdown",
   "metadata": {
    "id": "1j9X7dGpqypA"
   },
   "source": [
    "## Задание 4. Найти количество велосипедов в системе."
   ]
  },
  {
   "cell_type": "code",
   "execution_count": 30,
   "metadata": {
    "colab": {
     "base_uri": "https://localhost:8080/"
    },
    "id": "Ja2LNpf1q2Ev",
    "outputId": "7a36f24f-6a64-4ae4-c594-d776de7310cd"
   },
   "outputs": [
    {
     "data": {
      "text/plain": [
       "700"
      ]
     },
     "execution_count": 30,
     "metadata": {},
     "output_type": "execute_result"
    }
   ],
   "source": [
    "count_bikes = trips_mapped.map(lambda x: x.bike_id).distinct().count()\n",
    "count_bikes"
   ]
  },
  {
   "cell_type": "markdown",
   "metadata": {
    "id": "JVuvdR_2q4DQ"
   },
   "source": [
    "## Задание 5. Найти пользователей потративших на поездки более 3 часов."
   ]
  },
  {
   "cell_type": "code",
   "execution_count": 31,
   "metadata": {
    "colab": {
     "base_uri": "https://localhost:8080/"
    },
    "id": "EcjaGJQOq3rF",
    "outputId": "88ac572e-524c-442c-e9be-1f8f6927f169"
   },
   "outputs": [
    {
     "data": {
      "text/plain": [
       "['94133',\n",
       " '95112',\n",
       " '1945',\n",
       " '75225',\n",
       " '90032',\n",
       " '94102',\n",
       " '4517',\n",
       " '95618',\n",
       " '94080',\n",
       " '95148']"
      ]
     },
     "execution_count": 31,
     "metadata": {},
     "output_type": "execute_result"
    }
   ],
   "source": [
    "users = trips_mapped.filter(lambda x: x.duration > (3 * 60 * 60))\\\n",
    "                    .map(lambda x: x.zip_code)\\\n",
    "                    .filter(lambda x: x != \"\")\\\n",
    "                    .distinct()\n",
    "users.take(10)"
   ]
  },
  {
   "cell_type": "code",
   "execution_count": 55,
   "metadata": {
    "id": "nPAbWyhomPG_"
   },
   "outputs": [],
   "source": [
    "sc.stop()"
   ]
  },
  {
   "cell_type": "code",
   "execution_count": null,
   "metadata": {},
   "outputs": [],
   "source": []
  }
 ],
 "metadata": {
  "colab": {
   "provenance": []
  },
  "kernelspec": {
   "display_name": "Python 3 (ipykernel)",
   "language": "python",
   "name": "python3"
  },
  "language_info": {
   "codemirror_mode": {
    "name": "ipython",
    "version": 3
   },
   "file_extension": ".py",
   "mimetype": "text/x-python",
   "name": "python",
   "nbconvert_exporter": "python",
   "pygments_lexer": "ipython3",
   "version": "3.11.4"
  }
 },
 "nbformat": 4,
 "nbformat_minor": 1
}
